{
  "nbformat": 4,
  "nbformat_minor": 0,
  "metadata": {
    "colab": {
      "name": "Sentiment Analysis.ipynb",
      "provenance": [],
      "collapsed_sections": []
    },
    "kernelspec": {
      "name": "python3",
      "display_name": "Python 3"
    },
    "language_info": {
      "name": "python"
    }
  },
  "cells": [
    {
      "cell_type": "code",
      "metadata": {
        "colab": {
          "base_uri": "https://localhost:8080/"
        },
        "id": "lDrtShOCAROA",
        "outputId": "b67697ef-4350-41c1-cbff-838c2ddb130b"
      },
      "source": [
        "pip install textblob"
      ],
      "execution_count": null,
      "outputs": [
        {
          "output_type": "stream",
          "text": [
            "Requirement already satisfied: textblob in /usr/local/lib/python3.7/dist-packages (0.15.3)\n",
            "Requirement already satisfied: nltk>=3.1 in /usr/local/lib/python3.7/dist-packages (from textblob) (3.2.5)\n",
            "Requirement already satisfied: six in /usr/local/lib/python3.7/dist-packages (from nltk>=3.1->textblob) (1.15.0)\n"
          ],
          "name": "stdout"
        }
      ]
    },
    {
      "cell_type": "code",
      "metadata": {
        "colab": {
          "base_uri": "https://localhost:8080/"
        },
        "id": "pYOjqxBXAVA8",
        "outputId": "4f32c8dd-c8b6-4086-bbf2-ba6df8870264"
      },
      "source": [
        "pip install nltk"
      ],
      "execution_count": null,
      "outputs": [
        {
          "output_type": "stream",
          "text": [
            "Requirement already satisfied: nltk in /usr/local/lib/python3.7/dist-packages (3.2.5)\n",
            "Requirement already satisfied: six in /usr/local/lib/python3.7/dist-packages (from nltk) (1.15.0)\n"
          ],
          "name": "stdout"
        }
      ]
    },
    {
      "cell_type": "code",
      "metadata": {
        "colab": {
          "base_uri": "https://localhost:8080/"
        },
        "id": "x6N5Z4zjDu9K",
        "outputId": "8aefc8c6-4e54-403b-8f75-f137f41a8195"
      },
      "source": [
        "pip install vaderSentiment"
      ],
      "execution_count": null,
      "outputs": [
        {
          "output_type": "stream",
          "text": [
            "Requirement already satisfied: vaderSentiment in /usr/local/lib/python3.7/dist-packages (3.3.2)\n",
            "Requirement already satisfied: requests in /usr/local/lib/python3.7/dist-packages (from vaderSentiment) (2.23.0)\n",
            "Requirement already satisfied: chardet<4,>=3.0.2 in /usr/local/lib/python3.7/dist-packages (from requests->vaderSentiment) (3.0.4)\n",
            "Requirement already satisfied: certifi>=2017.4.17 in /usr/local/lib/python3.7/dist-packages (from requests->vaderSentiment) (2020.12.5)\n",
            "Requirement already satisfied: urllib3!=1.25.0,!=1.25.1,<1.26,>=1.21.1 in /usr/local/lib/python3.7/dist-packages (from requests->vaderSentiment) (1.24.3)\n",
            "Requirement already satisfied: idna<3,>=2.5 in /usr/local/lib/python3.7/dist-packages (from requests->vaderSentiment) (2.10)\n"
          ],
          "name": "stdout"
        }
      ]
    },
    {
      "cell_type": "code",
      "metadata": {
        "colab": {
          "base_uri": "https://localhost:8080/"
        },
        "id": "bmBk8TMj5Xf-",
        "outputId": "36c362bb-688c-4cd2-bb0d-de3142492a5e"
      },
      "source": [
        "from textblob import TextBlob\n",
        "# VADER can be accessed by the NLTK library.\n",
        "import nltk\n",
        "# Download the VADAR tool and access it through the NLTK library.\n",
        "nltk.download('vader_lexicon')\n",
        "from nltk.sentiment.vader import SentimentIntensityAnalyzer\n"
      ],
      "execution_count": null,
      "outputs": [
        {
          "output_type": "stream",
          "text": [
            "[nltk_data] Downloading package vader_lexicon to /root/nltk_data...\n",
            "[nltk_data]   Package vader_lexicon is already up-to-date!\n"
          ],
          "name": "stdout"
        }
      ]
    },
    {
      "cell_type": "code",
      "metadata": {
        "id": "j4jz1ijCEykA"
      },
      "source": [
        "import pandas as pd\n",
        "import numpy as np\n",
        "import matplotlib.pyplot as plt\n",
        "import time\n",
        "import tweepy\n",
        "import re"
      ],
      "execution_count": null,
      "outputs": []
    },
    {
      "cell_type": "code",
      "metadata": {
        "id": "g9PLQ-4FD4TD"
      },
      "source": [
        "from vaderSentiment.vaderSentiment import SentimentIntensityAnalyzer\n",
        "analyzer = SentimentIntensityAnalyzer()"
      ],
      "execution_count": null,
      "outputs": []
    },
    {
      "cell_type": "code",
      "metadata": {
        "colab": {
          "base_uri": "https://localhost:8080/"
        },
        "id": "wWzBF5XbHUP9",
        "outputId": "cde027e4-a6ef-4733-c263-aaf8f40a9edb"
      },
      "source": [
        "from google.colab import drive\n",
        "drive.mount('/content/drive')"
      ],
      "execution_count": null,
      "outputs": [
        {
          "output_type": "stream",
          "text": [
            "Mounted at /content/drive\n"
          ],
          "name": "stdout"
        }
      ]
    },
    {
      "cell_type": "code",
      "metadata": {
        "colab": {
          "base_uri": "https://localhost:8080/",
          "height": 185
        },
        "id": "5gY2KWu0_ide",
        "outputId": "502c6fb5-bcf2-4cd1-bc7a-d5555f46eb13"
      },
      "source": [
        "feb_11_2021 = pd.read_csv('/content/drive/MyDrive/FMT 6/Data frames/11-02-2021.csv')\n",
        "feb_11_2021.head(1)"
      ],
      "execution_count": null,
      "outputs": [
        {
          "output_type": "execute_result",
          "data": {
            "text/html": [
              "<div>\n",
              "<style scoped>\n",
              "    .dataframe tbody tr th:only-of-type {\n",
              "        vertical-align: middle;\n",
              "    }\n",
              "\n",
              "    .dataframe tbody tr th {\n",
              "        vertical-align: top;\n",
              "    }\n",
              "\n",
              "    .dataframe thead th {\n",
              "        text-align: right;\n",
              "    }\n",
              "</style>\n",
              "<table border=\"1\" class=\"dataframe\">\n",
              "  <thead>\n",
              "    <tr style=\"text-align: right;\">\n",
              "      <th></th>\n",
              "      <th>Unnamed: 0</th>\n",
              "      <th>_api</th>\n",
              "      <th>_json</th>\n",
              "      <th>created_at</th>\n",
              "      <th>id</th>\n",
              "      <th>id_str</th>\n",
              "      <th>text</th>\n",
              "      <th>source</th>\n",
              "      <th>source_url</th>\n",
              "      <th>truncated</th>\n",
              "      <th>in_reply_to_status_id</th>\n",
              "      <th>in_reply_to_status_id_str</th>\n",
              "      <th>in_reply_to_user_id</th>\n",
              "      <th>in_reply_to_user_id_str</th>\n",
              "      <th>in_reply_to_screen_name</th>\n",
              "      <th>author</th>\n",
              "      <th>user</th>\n",
              "      <th>geo</th>\n",
              "      <th>coordinates</th>\n",
              "      <th>place</th>\n",
              "      <th>contributors</th>\n",
              "      <th>retweeted_status</th>\n",
              "      <th>is_quote_status</th>\n",
              "      <th>quote_count</th>\n",
              "      <th>reply_count</th>\n",
              "      <th>retweet_count</th>\n",
              "      <th>favorite_count</th>\n",
              "      <th>entities</th>\n",
              "      <th>favorited</th>\n",
              "      <th>retweeted</th>\n",
              "      <th>filter_level</th>\n",
              "      <th>lang</th>\n",
              "      <th>matching_rules</th>\n",
              "      <th>display_text_range</th>\n",
              "      <th>extended_entities</th>\n",
              "      <th>possibly_sensitive</th>\n",
              "      <th>quoted_status_id</th>\n",
              "      <th>quoted_status_id_str</th>\n",
              "      <th>quoted_status</th>\n",
              "      <th>quoted_status_permalink</th>\n",
              "      <th>extended_tweet</th>\n",
              "    </tr>\n",
              "  </thead>\n",
              "  <tbody>\n",
              "    <tr>\n",
              "      <th>0</th>\n",
              "      <td>0</td>\n",
              "      <td>&lt;tweepy.api.API object at 0x7f1009867e90&gt;</td>\n",
              "      <td>{'created_at': 'Thu Feb 11 23:59:59 +0000 2021...</td>\n",
              "      <td>2021-02-11 23:59:59</td>\n",
              "      <td>1360015761188782080</td>\n",
              "      <td>1360015761188782080</td>\n",
              "      <td>RT @Ashwsbreal: #BreakingNews 📰 \\n\\n#Bitcoin O...</td>\n",
              "      <td>Twitter for iPhone</td>\n",
              "      <td>http://twitter.com/download/iphone</td>\n",
              "      <td>False</td>\n",
              "      <td>NaN</td>\n",
              "      <td>NaN</td>\n",
              "      <td>NaN</td>\n",
              "      <td>NaN</td>\n",
              "      <td>NaN</td>\n",
              "      <td>User(_api=&lt;tweepy.api.API object at 0x7f100986...</td>\n",
              "      <td>User(_api=&lt;tweepy.api.API object at 0x7f100986...</td>\n",
              "      <td>NaN</td>\n",
              "      <td>NaN</td>\n",
              "      <td>NaN</td>\n",
              "      <td>NaN</td>\n",
              "      <td>Status(_api=&lt;tweepy.api.API object at 0x7f1009...</td>\n",
              "      <td>False</td>\n",
              "      <td>0</td>\n",
              "      <td>0</td>\n",
              "      <td>0</td>\n",
              "      <td>0</td>\n",
              "      <td>{'hashtags': [{'text': 'BreakingNews', 'indice...</td>\n",
              "      <td>False</td>\n",
              "      <td>False</td>\n",
              "      <td>low</td>\n",
              "      <td>en</td>\n",
              "      <td>[{'tag': None}]</td>\n",
              "      <td>NaN</td>\n",
              "      <td>NaN</td>\n",
              "      <td>NaN</td>\n",
              "      <td>NaN</td>\n",
              "      <td>NaN</td>\n",
              "      <td>NaN</td>\n",
              "      <td>NaN</td>\n",
              "      <td>NaN</td>\n",
              "    </tr>\n",
              "  </tbody>\n",
              "</table>\n",
              "</div>"
            ],
            "text/plain": [
              "   Unnamed: 0  ... extended_tweet\n",
              "0           0  ...            NaN\n",
              "\n",
              "[1 rows x 41 columns]"
            ]
          },
          "metadata": {
            "tags": []
          },
          "execution_count": 22
        }
      ]
    },
    {
      "cell_type": "code",
      "metadata": {
        "id": "E1RWw0jTGb7k"
      },
      "source": [
        "#cleaning the tweets\n",
        "def remove_pattern(input_txt, pattern):\n",
        "    r = re.findall(pattern, input_txt)\n",
        "    for i in r:\n",
        "        input_txt = re.sub(i, '', input_txt)        \n",
        "    return input_txt\n",
        "def clean_tweets(tweets):\n",
        "    #remove twitter Return handles (RT @xxx:)\n",
        "    tweets = np.vectorize(remove_pattern)(tweets, \"RT @[\\w]*:\") \n",
        "    \n",
        "    #remove twitter handles (@xxx)\n",
        "    tweets = np.vectorize(remove_pattern)(tweets, \"@[\\w]*\")\n",
        "    \n",
        "    #remove URL links (httpxxx)\n",
        "    tweets = np.vectorize(remove_pattern)(tweets, \"https?://[A-Za-z0-9./]*\")\n",
        "    \n",
        "    #remove special characters, numbers, punctuations (except for #)\n",
        "    tweets = np.core.defchararray.replace(tweets, \"[^a-zA-Z]\", \" \")\n",
        "    \n",
        "    return tweets"
      ],
      "execution_count": null,
      "outputs": []
    },
    {
      "cell_type": "code",
      "metadata": {
        "colab": {
          "base_uri": "https://localhost:8080/"
        },
        "id": "GmT1AhhMGvdL",
        "outputId": "de52aa4b-2da9-401d-e64e-b3e67efa77f5"
      },
      "source": [
        "feb_11_2021['text'] = clean_tweets(feb_11_2021['text'])\n",
        "feb_11_2021['text'].head()"
      ],
      "execution_count": null,
      "outputs": [
        {
          "output_type": "execute_result",
          "data": {
            "text/plain": [
              "0     #BreakingNews 📰 \\n\\n#Bitcoin On the Verge of ...\n",
              "1    #Bitcoin is free market revolution without vio...\n",
              "2                                            #Bitcoin \n",
              "3     Venezuela, entre los 10 países con mayor mine...\n",
              "4     Someone just transfered 19,600 #bitcoin in on...\n",
              "Name: text, dtype: object"
            ]
          },
          "metadata": {
            "tags": []
          },
          "execution_count": 24
        }
      ]
    },
    {
      "cell_type": "code",
      "metadata": {
        "id": "trjWFJCVHiR4"
      },
      "source": [
        "scores = []\n",
        "# Declare variables for scores\n",
        "compound_list = []\n",
        "positive_list = []\n",
        "negative_list = []\n",
        "neutral_list = []\n",
        "for i in range(feb_11_2021['text'].shape[0]):\n",
        "#print(analyser.polarity_scores(sentiments_pd['text'][i]))\n",
        "    compound = analyzer.polarity_scores(feb_11_2021['text'][i])[\"compound\"]\n",
        "    pos = analyzer.polarity_scores(feb_11_2021['text'][i])[\"pos\"]\n",
        "    neu = analyzer.polarity_scores(feb_11_2021['text'][i])[\"neu\"]\n",
        "    neg = analyzer.polarity_scores(feb_11_2021['text'][i])[\"neg\"]\n",
        "    \n",
        "    scores.append({\"Compound\": compound,\n",
        "                       \"Positive\": pos,\n",
        "                       \"Negative\": neg,\n",
        "                       \"Neutral\": neu\n",
        "                  })"
      ],
      "execution_count": null,
      "outputs": []
    },
    {
      "cell_type": "code",
      "metadata": {
        "colab": {
          "base_uri": "https://localhost:8080/",
          "height": 581
        },
        "id": "ByzJXLpWH8sG",
        "outputId": "a5db932c-f6cd-4cc5-dd75-94d8926fac38"
      },
      "source": [
        "sentiments_score = pd.DataFrame.from_dict(scores)\n",
        "feb_11_2021 = feb_11_2021.join(sentiments_score)\n",
        "feb_11_2021.head()"
      ],
      "execution_count": null,
      "outputs": [
        {
          "output_type": "execute_result",
          "data": {
            "text/html": [
              "<div>\n",
              "<style scoped>\n",
              "    .dataframe tbody tr th:only-of-type {\n",
              "        vertical-align: middle;\n",
              "    }\n",
              "\n",
              "    .dataframe tbody tr th {\n",
              "        vertical-align: top;\n",
              "    }\n",
              "\n",
              "    .dataframe thead th {\n",
              "        text-align: right;\n",
              "    }\n",
              "</style>\n",
              "<table border=\"1\" class=\"dataframe\">\n",
              "  <thead>\n",
              "    <tr style=\"text-align: right;\">\n",
              "      <th></th>\n",
              "      <th>Unnamed: 0</th>\n",
              "      <th>_api</th>\n",
              "      <th>_json</th>\n",
              "      <th>created_at</th>\n",
              "      <th>id</th>\n",
              "      <th>id_str</th>\n",
              "      <th>text</th>\n",
              "      <th>source</th>\n",
              "      <th>source_url</th>\n",
              "      <th>truncated</th>\n",
              "      <th>in_reply_to_status_id</th>\n",
              "      <th>in_reply_to_status_id_str</th>\n",
              "      <th>in_reply_to_user_id</th>\n",
              "      <th>in_reply_to_user_id_str</th>\n",
              "      <th>in_reply_to_screen_name</th>\n",
              "      <th>author</th>\n",
              "      <th>user</th>\n",
              "      <th>geo</th>\n",
              "      <th>coordinates</th>\n",
              "      <th>place</th>\n",
              "      <th>contributors</th>\n",
              "      <th>retweeted_status</th>\n",
              "      <th>is_quote_status</th>\n",
              "      <th>quote_count</th>\n",
              "      <th>reply_count</th>\n",
              "      <th>retweet_count</th>\n",
              "      <th>favorite_count</th>\n",
              "      <th>entities</th>\n",
              "      <th>favorited</th>\n",
              "      <th>retweeted</th>\n",
              "      <th>filter_level</th>\n",
              "      <th>lang</th>\n",
              "      <th>matching_rules</th>\n",
              "      <th>display_text_range</th>\n",
              "      <th>extended_entities</th>\n",
              "      <th>possibly_sensitive</th>\n",
              "      <th>quoted_status_id</th>\n",
              "      <th>quoted_status_id_str</th>\n",
              "      <th>quoted_status</th>\n",
              "      <th>quoted_status_permalink</th>\n",
              "      <th>extended_tweet</th>\n",
              "      <th>Compound</th>\n",
              "      <th>Positive</th>\n",
              "      <th>Negative</th>\n",
              "      <th>Neutral</th>\n",
              "    </tr>\n",
              "  </thead>\n",
              "  <tbody>\n",
              "    <tr>\n",
              "      <th>0</th>\n",
              "      <td>0</td>\n",
              "      <td>&lt;tweepy.api.API object at 0x7f1009867e90&gt;</td>\n",
              "      <td>{'created_at': 'Thu Feb 11 23:59:59 +0000 2021...</td>\n",
              "      <td>2021-02-11 23:59:59</td>\n",
              "      <td>1360015761188782080</td>\n",
              "      <td>1360015761188782080</td>\n",
              "      <td>#BreakingNews 📰 \\n\\n#Bitcoin On the Verge of ...</td>\n",
              "      <td>Twitter for iPhone</td>\n",
              "      <td>http://twitter.com/download/iphone</td>\n",
              "      <td>False</td>\n",
              "      <td>NaN</td>\n",
              "      <td>NaN</td>\n",
              "      <td>NaN</td>\n",
              "      <td>NaN</td>\n",
              "      <td>NaN</td>\n",
              "      <td>User(_api=&lt;tweepy.api.API object at 0x7f100986...</td>\n",
              "      <td>User(_api=&lt;tweepy.api.API object at 0x7f100986...</td>\n",
              "      <td>NaN</td>\n",
              "      <td>NaN</td>\n",
              "      <td>NaN</td>\n",
              "      <td>NaN</td>\n",
              "      <td>Status(_api=&lt;tweepy.api.API object at 0x7f1009...</td>\n",
              "      <td>False</td>\n",
              "      <td>0</td>\n",
              "      <td>0</td>\n",
              "      <td>0</td>\n",
              "      <td>0</td>\n",
              "      <td>{'hashtags': [{'text': 'BreakingNews', 'indice...</td>\n",
              "      <td>False</td>\n",
              "      <td>False</td>\n",
              "      <td>low</td>\n",
              "      <td>en</td>\n",
              "      <td>[{'tag': None}]</td>\n",
              "      <td>NaN</td>\n",
              "      <td>NaN</td>\n",
              "      <td>NaN</td>\n",
              "      <td>NaN</td>\n",
              "      <td>NaN</td>\n",
              "      <td>NaN</td>\n",
              "      <td>NaN</td>\n",
              "      <td>NaN</td>\n",
              "      <td>0.0000</td>\n",
              "      <td>0.000</td>\n",
              "      <td>0.0</td>\n",
              "      <td>1.000</td>\n",
              "    </tr>\n",
              "    <tr>\n",
              "      <th>1</th>\n",
              "      <td>1</td>\n",
              "      <td>&lt;tweepy.api.API object at 0x7f1009867e90&gt;</td>\n",
              "      <td>{'created_at': 'Thu Feb 11 23:59:59 +0000 2021...</td>\n",
              "      <td>2021-02-11 23:59:59</td>\n",
              "      <td>1360015760635154434</td>\n",
              "      <td>1360015760635154434</td>\n",
              "      <td>#Bitcoin is free market revolution without vio...</td>\n",
              "      <td>Twitter for Android</td>\n",
              "      <td>http://twitter.com/download/android</td>\n",
              "      <td>False</td>\n",
              "      <td>NaN</td>\n",
              "      <td>NaN</td>\n",
              "      <td>NaN</td>\n",
              "      <td>NaN</td>\n",
              "      <td>NaN</td>\n",
              "      <td>User(_api=&lt;tweepy.api.API object at 0x7f100986...</td>\n",
              "      <td>User(_api=&lt;tweepy.api.API object at 0x7f100986...</td>\n",
              "      <td>NaN</td>\n",
              "      <td>NaN</td>\n",
              "      <td>NaN</td>\n",
              "      <td>NaN</td>\n",
              "      <td>NaN</td>\n",
              "      <td>False</td>\n",
              "      <td>0</td>\n",
              "      <td>0</td>\n",
              "      <td>0</td>\n",
              "      <td>1</td>\n",
              "      <td>{'hashtags': [{'text': 'Bitcoin', 'indices': [...</td>\n",
              "      <td>False</td>\n",
              "      <td>False</td>\n",
              "      <td>low</td>\n",
              "      <td>en</td>\n",
              "      <td>[{'tag': None}]</td>\n",
              "      <td>NaN</td>\n",
              "      <td>NaN</td>\n",
              "      <td>NaN</td>\n",
              "      <td>NaN</td>\n",
              "      <td>NaN</td>\n",
              "      <td>NaN</td>\n",
              "      <td>NaN</td>\n",
              "      <td>NaN</td>\n",
              "      <td>0.7646</td>\n",
              "      <td>0.569</td>\n",
              "      <td>0.0</td>\n",
              "      <td>0.431</td>\n",
              "    </tr>\n",
              "    <tr>\n",
              "      <th>2</th>\n",
              "      <td>2</td>\n",
              "      <td>&lt;tweepy.api.API object at 0x7f1009867e90&gt;</td>\n",
              "      <td>{'created_at': 'Thu Feb 11 23:59:59 +0000 2021...</td>\n",
              "      <td>2021-02-11 23:59:59</td>\n",
              "      <td>1360015758751911939</td>\n",
              "      <td>1360015758751911939</td>\n",
              "      <td>#Bitcoin</td>\n",
              "      <td>Twitter for iPhone</td>\n",
              "      <td>http://twitter.com/download/iphone</td>\n",
              "      <td>False</td>\n",
              "      <td>NaN</td>\n",
              "      <td>NaN</td>\n",
              "      <td>NaN</td>\n",
              "      <td>NaN</td>\n",
              "      <td>NaN</td>\n",
              "      <td>User(_api=&lt;tweepy.api.API object at 0x7f100986...</td>\n",
              "      <td>User(_api=&lt;tweepy.api.API object at 0x7f100986...</td>\n",
              "      <td>NaN</td>\n",
              "      <td>NaN</td>\n",
              "      <td>NaN</td>\n",
              "      <td>NaN</td>\n",
              "      <td>NaN</td>\n",
              "      <td>False</td>\n",
              "      <td>0</td>\n",
              "      <td>0</td>\n",
              "      <td>0</td>\n",
              "      <td>0</td>\n",
              "      <td>{'hashtags': [{'text': 'Bitcoin', 'indices': [...</td>\n",
              "      <td>False</td>\n",
              "      <td>False</td>\n",
              "      <td>low</td>\n",
              "      <td>und</td>\n",
              "      <td>[{'tag': None}]</td>\n",
              "      <td>[0, 8]</td>\n",
              "      <td>{'media': [{'id': 1360015748798836737, 'id_str...</td>\n",
              "      <td>False</td>\n",
              "      <td>NaN</td>\n",
              "      <td>NaN</td>\n",
              "      <td>NaN</td>\n",
              "      <td>NaN</td>\n",
              "      <td>NaN</td>\n",
              "      <td>0.0000</td>\n",
              "      <td>0.000</td>\n",
              "      <td>0.0</td>\n",
              "      <td>1.000</td>\n",
              "    </tr>\n",
              "    <tr>\n",
              "      <th>3</th>\n",
              "      <td>3</td>\n",
              "      <td>&lt;tweepy.api.API object at 0x7f1009867e90&gt;</td>\n",
              "      <td>{'created_at': 'Thu Feb 11 23:59:58 +0000 2021...</td>\n",
              "      <td>2021-02-11 23:59:58</td>\n",
              "      <td>1360015756805746689</td>\n",
              "      <td>1360015756805746689</td>\n",
              "      <td>Venezuela, entre los 10 países con mayor mine...</td>\n",
              "      <td>Twitter for Android</td>\n",
              "      <td>http://twitter.com/download/android</td>\n",
              "      <td>False</td>\n",
              "      <td>NaN</td>\n",
              "      <td>NaN</td>\n",
              "      <td>NaN</td>\n",
              "      <td>NaN</td>\n",
              "      <td>NaN</td>\n",
              "      <td>User(_api=&lt;tweepy.api.API object at 0x7f100986...</td>\n",
              "      <td>User(_api=&lt;tweepy.api.API object at 0x7f100986...</td>\n",
              "      <td>NaN</td>\n",
              "      <td>NaN</td>\n",
              "      <td>NaN</td>\n",
              "      <td>NaN</td>\n",
              "      <td>Status(_api=&lt;tweepy.api.API object at 0x7f1009...</td>\n",
              "      <td>False</td>\n",
              "      <td>0</td>\n",
              "      <td>0</td>\n",
              "      <td>0</td>\n",
              "      <td>0</td>\n",
              "      <td>{'hashtags': [], 'urls': [], 'user_mentions': ...</td>\n",
              "      <td>False</td>\n",
              "      <td>False</td>\n",
              "      <td>low</td>\n",
              "      <td>es</td>\n",
              "      <td>[{'tag': None}]</td>\n",
              "      <td>NaN</td>\n",
              "      <td>NaN</td>\n",
              "      <td>NaN</td>\n",
              "      <td>NaN</td>\n",
              "      <td>NaN</td>\n",
              "      <td>NaN</td>\n",
              "      <td>NaN</td>\n",
              "      <td>NaN</td>\n",
              "      <td>0.2023</td>\n",
              "      <td>0.079</td>\n",
              "      <td>0.0</td>\n",
              "      <td>0.921</td>\n",
              "    </tr>\n",
              "    <tr>\n",
              "      <th>4</th>\n",
              "      <td>4</td>\n",
              "      <td>&lt;tweepy.api.API object at 0x7f1009867e90&gt;</td>\n",
              "      <td>{'created_at': 'Thu Feb 11 23:59:57 +0000 2021...</td>\n",
              "      <td>2021-02-11 23:59:57</td>\n",
              "      <td>1360015752019857408</td>\n",
              "      <td>1360015752019857408</td>\n",
              "      <td>Someone just transfered 19,600 #bitcoin in on...</td>\n",
              "      <td>Twitter Web App</td>\n",
              "      <td>https://mobile.twitter.com</td>\n",
              "      <td>False</td>\n",
              "      <td>NaN</td>\n",
              "      <td>NaN</td>\n",
              "      <td>NaN</td>\n",
              "      <td>NaN</td>\n",
              "      <td>NaN</td>\n",
              "      <td>User(_api=&lt;tweepy.api.API object at 0x7f100986...</td>\n",
              "      <td>User(_api=&lt;tweepy.api.API object at 0x7f100986...</td>\n",
              "      <td>NaN</td>\n",
              "      <td>NaN</td>\n",
              "      <td>NaN</td>\n",
              "      <td>NaN</td>\n",
              "      <td>Status(_api=&lt;tweepy.api.API object at 0x7f1009...</td>\n",
              "      <td>False</td>\n",
              "      <td>0</td>\n",
              "      <td>0</td>\n",
              "      <td>0</td>\n",
              "      <td>0</td>\n",
              "      <td>{'hashtags': [{'text': 'bitcoin', 'indices': [...</td>\n",
              "      <td>False</td>\n",
              "      <td>False</td>\n",
              "      <td>low</td>\n",
              "      <td>en</td>\n",
              "      <td>[{'tag': None}]</td>\n",
              "      <td>NaN</td>\n",
              "      <td>NaN</td>\n",
              "      <td>NaN</td>\n",
              "      <td>NaN</td>\n",
              "      <td>NaN</td>\n",
              "      <td>NaN</td>\n",
              "      <td>NaN</td>\n",
              "      <td>NaN</td>\n",
              "      <td>0.0000</td>\n",
              "      <td>0.000</td>\n",
              "      <td>0.0</td>\n",
              "      <td>1.000</td>\n",
              "    </tr>\n",
              "  </tbody>\n",
              "</table>\n",
              "</div>"
            ],
            "text/plain": [
              "   Unnamed: 0                                       _api  ... Negative Neutral\n",
              "0           0  <tweepy.api.API object at 0x7f1009867e90>  ...      0.0   1.000\n",
              "1           1  <tweepy.api.API object at 0x7f1009867e90>  ...      0.0   0.431\n",
              "2           2  <tweepy.api.API object at 0x7f1009867e90>  ...      0.0   1.000\n",
              "3           3  <tweepy.api.API object at 0x7f1009867e90>  ...      0.0   0.921\n",
              "4           4  <tweepy.api.API object at 0x7f1009867e90>  ...      0.0   1.000\n",
              "\n",
              "[5 rows x 45 columns]"
            ]
          },
          "metadata": {
            "tags": []
          },
          "execution_count": 26
        }
      ]
    },
    {
      "cell_type": "code",
      "metadata": {
        "colab": {
          "base_uri": "https://localhost:8080/"
        },
        "id": "ZZ7C7TIEKepQ",
        "outputId": "f7101448-8919-4285-d716-fb62e2b7f1b1"
      },
      "source": [
        "feb_11_2021.lang.value_counts()"
      ],
      "execution_count": null,
      "outputs": [
        {
          "output_type": "execute_result",
          "data": {
            "text/plain": [
              "en     470\n",
              "es      10\n",
              "und      7\n",
              "ja       6\n",
              "fr       3\n",
              "tr       2\n",
              "pt       1\n",
              "de       1\n",
              "Name: lang, dtype: int64"
            ]
          },
          "metadata": {
            "tags": []
          },
          "execution_count": 27
        }
      ]
    },
    {
      "cell_type": "code",
      "metadata": {
        "colab": {
          "base_uri": "https://localhost:8080/",
          "height": 589
        },
        "id": "oEHBJrjsI2T6",
        "outputId": "01a1b5b2-e068-4b3b-8afa-dcca8218f799"
      },
      "source": [
        "feb_11_2021[['created_at','id','text','Compound','Positive','Negative','Neutral']]"
      ],
      "execution_count": null,
      "outputs": [
        {
          "output_type": "execute_result",
          "data": {
            "text/html": [
              "<div>\n",
              "<style scoped>\n",
              "    .dataframe tbody tr th:only-of-type {\n",
              "        vertical-align: middle;\n",
              "    }\n",
              "\n",
              "    .dataframe tbody tr th {\n",
              "        vertical-align: top;\n",
              "    }\n",
              "\n",
              "    .dataframe thead th {\n",
              "        text-align: right;\n",
              "    }\n",
              "</style>\n",
              "<table border=\"1\" class=\"dataframe\">\n",
              "  <thead>\n",
              "    <tr style=\"text-align: right;\">\n",
              "      <th></th>\n",
              "      <th>created_at</th>\n",
              "      <th>id</th>\n",
              "      <th>text</th>\n",
              "      <th>Compound</th>\n",
              "      <th>Positive</th>\n",
              "      <th>Negative</th>\n",
              "      <th>Neutral</th>\n",
              "    </tr>\n",
              "  </thead>\n",
              "  <tbody>\n",
              "    <tr>\n",
              "      <th>0</th>\n",
              "      <td>2021-02-11 23:59:59</td>\n",
              "      <td>1360015761188782080</td>\n",
              "      <td>#BreakingNews 📰 \\n\\n#Bitcoin On the Verge of ...</td>\n",
              "      <td>0.0000</td>\n",
              "      <td>0.000</td>\n",
              "      <td>0.0</td>\n",
              "      <td>1.000</td>\n",
              "    </tr>\n",
              "    <tr>\n",
              "      <th>1</th>\n",
              "      <td>2021-02-11 23:59:59</td>\n",
              "      <td>1360015760635154434</td>\n",
              "      <td>#Bitcoin is free market revolution without vio...</td>\n",
              "      <td>0.7646</td>\n",
              "      <td>0.569</td>\n",
              "      <td>0.0</td>\n",
              "      <td>0.431</td>\n",
              "    </tr>\n",
              "    <tr>\n",
              "      <th>2</th>\n",
              "      <td>2021-02-11 23:59:59</td>\n",
              "      <td>1360015758751911939</td>\n",
              "      <td>#Bitcoin</td>\n",
              "      <td>0.0000</td>\n",
              "      <td>0.000</td>\n",
              "      <td>0.0</td>\n",
              "      <td>1.000</td>\n",
              "    </tr>\n",
              "    <tr>\n",
              "      <th>3</th>\n",
              "      <td>2021-02-11 23:59:58</td>\n",
              "      <td>1360015756805746689</td>\n",
              "      <td>Venezuela, entre los 10 países con mayor mine...</td>\n",
              "      <td>0.2023</td>\n",
              "      <td>0.079</td>\n",
              "      <td>0.0</td>\n",
              "      <td>0.921</td>\n",
              "    </tr>\n",
              "    <tr>\n",
              "      <th>4</th>\n",
              "      <td>2021-02-11 23:59:57</td>\n",
              "      <td>1360015752019857408</td>\n",
              "      <td>Someone just transfered 19,600 #bitcoin in on...</td>\n",
              "      <td>0.0000</td>\n",
              "      <td>0.000</td>\n",
              "      <td>0.0</td>\n",
              "      <td>1.000</td>\n",
              "    </tr>\n",
              "    <tr>\n",
              "      <th>...</th>\n",
              "      <td>...</td>\n",
              "      <td>...</td>\n",
              "      <td>...</td>\n",
              "      <td>...</td>\n",
              "      <td>...</td>\n",
              "      <td>...</td>\n",
              "      <td>...</td>\n",
              "    </tr>\n",
              "    <tr>\n",
              "      <th>495</th>\n",
              "      <td>2021-02-11 23:55:33</td>\n",
              "      <td>1360014642563670020</td>\n",
              "      <td>First #bitcoin etf</td>\n",
              "      <td>0.0000</td>\n",
              "      <td>0.000</td>\n",
              "      <td>0.0</td>\n",
              "      <td>1.000</td>\n",
              "    </tr>\n",
              "    <tr>\n",
              "      <th>496</th>\n",
              "      <td>2021-02-11 23:55:32</td>\n",
              "      <td>1360014638595801088</td>\n",
              "      <td>Just another day, lol...\\n- Twitter consideri...</td>\n",
              "      <td>0.4215</td>\n",
              "      <td>0.141</td>\n",
              "      <td>0.0</td>\n",
              "      <td>0.859</td>\n",
              "    </tr>\n",
              "    <tr>\n",
              "      <th>497</th>\n",
              "      <td>2021-02-11 23:55:32</td>\n",
              "      <td>1360014637702344708</td>\n",
              "      <td>LADIES &amp;amp; GENTS, WE HAVE THE 1ST PUBLICLY ...</td>\n",
              "      <td>0.0000</td>\n",
              "      <td>0.000</td>\n",
              "      <td>0.0</td>\n",
              "      <td>1.000</td>\n",
              "    </tr>\n",
              "    <tr>\n",
              "      <th>498</th>\n",
              "      <td>2021-02-11 23:55:32</td>\n",
              "      <td>1360014637304057856</td>\n",
              "      <td>LADIES &amp;amp; GENTS, WE HAVE THE 1ST PUBLICLY ...</td>\n",
              "      <td>0.0000</td>\n",
              "      <td>0.000</td>\n",
              "      <td>0.0</td>\n",
              "      <td>1.000</td>\n",
              "    </tr>\n",
              "    <tr>\n",
              "      <th>499</th>\n",
              "      <td>2021-02-11 23:55:30</td>\n",
              "      <td>1360014632568557570</td>\n",
              "      <td>#Bitcoin’s hardest days and biggest challenge...</td>\n",
              "      <td>0.0772</td>\n",
              "      <td>0.106</td>\n",
              "      <td>0.0</td>\n",
              "      <td>0.894</td>\n",
              "    </tr>\n",
              "  </tbody>\n",
              "</table>\n",
              "<p>500 rows × 7 columns</p>\n",
              "</div>"
            ],
            "text/plain": [
              "              created_at                   id  ... Negative  Neutral\n",
              "0    2021-02-11 23:59:59  1360015761188782080  ...      0.0    1.000\n",
              "1    2021-02-11 23:59:59  1360015760635154434  ...      0.0    0.431\n",
              "2    2021-02-11 23:59:59  1360015758751911939  ...      0.0    1.000\n",
              "3    2021-02-11 23:59:58  1360015756805746689  ...      0.0    0.921\n",
              "4    2021-02-11 23:59:57  1360015752019857408  ...      0.0    1.000\n",
              "..                   ...                  ...  ...      ...      ...\n",
              "495  2021-02-11 23:55:33  1360014642563670020  ...      0.0    1.000\n",
              "496  2021-02-11 23:55:32  1360014638595801088  ...      0.0    0.859\n",
              "497  2021-02-11 23:55:32  1360014637702344708  ...      0.0    1.000\n",
              "498  2021-02-11 23:55:32  1360014637304057856  ...      0.0    1.000\n",
              "499  2021-02-11 23:55:30  1360014632568557570  ...      0.0    0.894\n",
              "\n",
              "[500 rows x 7 columns]"
            ]
          },
          "metadata": {
            "tags": []
          },
          "execution_count": 28
        }
      ]
    },
    {
      "cell_type": "code",
      "metadata": {
        "colab": {
          "base_uri": "https://localhost:8080/",
          "height": 561
        },
        "id": "bkrpmNUaTiaW",
        "outputId": "146f8320-35d3-4a95-ec73-3c58b75464ca"
      },
      "source": [
        "feb_11_2021['compound'][1]"
      ],
      "execution_count": null,
      "outputs": [
        {
          "output_type": "error",
          "ename": "KeyError",
          "evalue": "ignored",
          "traceback": [
            "\u001b[0;31m---------------------------------------------------------------------------\u001b[0m",
            "\u001b[0;31mKeyError\u001b[0m                                  Traceback (most recent call last)",
            "\u001b[0;32m/usr/local/lib/python3.7/dist-packages/pandas/core/indexes/base.py\u001b[0m in \u001b[0;36mget_loc\u001b[0;34m(self, key, method, tolerance)\u001b[0m\n\u001b[1;32m   2897\u001b[0m             \u001b[0;32mtry\u001b[0m\u001b[0;34m:\u001b[0m\u001b[0;34m\u001b[0m\u001b[0;34m\u001b[0m\u001b[0m\n\u001b[0;32m-> 2898\u001b[0;31m                 \u001b[0;32mreturn\u001b[0m \u001b[0mself\u001b[0m\u001b[0;34m.\u001b[0m\u001b[0m_engine\u001b[0m\u001b[0;34m.\u001b[0m\u001b[0mget_loc\u001b[0m\u001b[0;34m(\u001b[0m\u001b[0mcasted_key\u001b[0m\u001b[0;34m)\u001b[0m\u001b[0;34m\u001b[0m\u001b[0;34m\u001b[0m\u001b[0m\n\u001b[0m\u001b[1;32m   2899\u001b[0m             \u001b[0;32mexcept\u001b[0m \u001b[0mKeyError\u001b[0m \u001b[0;32mas\u001b[0m \u001b[0merr\u001b[0m\u001b[0;34m:\u001b[0m\u001b[0;34m\u001b[0m\u001b[0;34m\u001b[0m\u001b[0m\n",
            "\u001b[0;32mpandas/_libs/index.pyx\u001b[0m in \u001b[0;36mpandas._libs.index.IndexEngine.get_loc\u001b[0;34m()\u001b[0m\n",
            "\u001b[0;32mpandas/_libs/index.pyx\u001b[0m in \u001b[0;36mpandas._libs.index.IndexEngine.get_loc\u001b[0;34m()\u001b[0m\n",
            "\u001b[0;32mpandas/_libs/hashtable_class_helper.pxi\u001b[0m in \u001b[0;36mpandas._libs.hashtable.PyObjectHashTable.get_item\u001b[0;34m()\u001b[0m\n",
            "\u001b[0;32mpandas/_libs/hashtable_class_helper.pxi\u001b[0m in \u001b[0;36mpandas._libs.hashtable.PyObjectHashTable.get_item\u001b[0;34m()\u001b[0m\n",
            "\u001b[0;31mKeyError\u001b[0m: 'compound'",
            "\nThe above exception was the direct cause of the following exception:\n",
            "\u001b[0;31mKeyError\u001b[0m                                  Traceback (most recent call last)",
            "\u001b[0;32m<ipython-input-40-d1b17d9960eb>\u001b[0m in \u001b[0;36m<module>\u001b[0;34m()\u001b[0m\n\u001b[0;32m----> 1\u001b[0;31m \u001b[0mfeb_11_2021\u001b[0m\u001b[0;34m[\u001b[0m\u001b[0;34m'compound'\u001b[0m\u001b[0;34m]\u001b[0m\u001b[0;34m[\u001b[0m\u001b[0;36m1\u001b[0m\u001b[0;34m]\u001b[0m\u001b[0;34m\u001b[0m\u001b[0;34m\u001b[0m\u001b[0m\n\u001b[0m",
            "\u001b[0;32m/usr/local/lib/python3.7/dist-packages/pandas/core/frame.py\u001b[0m in \u001b[0;36m__getitem__\u001b[0;34m(self, key)\u001b[0m\n\u001b[1;32m   2904\u001b[0m             \u001b[0;32mif\u001b[0m \u001b[0mself\u001b[0m\u001b[0;34m.\u001b[0m\u001b[0mcolumns\u001b[0m\u001b[0;34m.\u001b[0m\u001b[0mnlevels\u001b[0m \u001b[0;34m>\u001b[0m \u001b[0;36m1\u001b[0m\u001b[0;34m:\u001b[0m\u001b[0;34m\u001b[0m\u001b[0;34m\u001b[0m\u001b[0m\n\u001b[1;32m   2905\u001b[0m                 \u001b[0;32mreturn\u001b[0m \u001b[0mself\u001b[0m\u001b[0;34m.\u001b[0m\u001b[0m_getitem_multilevel\u001b[0m\u001b[0;34m(\u001b[0m\u001b[0mkey\u001b[0m\u001b[0;34m)\u001b[0m\u001b[0;34m\u001b[0m\u001b[0;34m\u001b[0m\u001b[0m\n\u001b[0;32m-> 2906\u001b[0;31m             \u001b[0mindexer\u001b[0m \u001b[0;34m=\u001b[0m \u001b[0mself\u001b[0m\u001b[0;34m.\u001b[0m\u001b[0mcolumns\u001b[0m\u001b[0;34m.\u001b[0m\u001b[0mget_loc\u001b[0m\u001b[0;34m(\u001b[0m\u001b[0mkey\u001b[0m\u001b[0;34m)\u001b[0m\u001b[0;34m\u001b[0m\u001b[0;34m\u001b[0m\u001b[0m\n\u001b[0m\u001b[1;32m   2907\u001b[0m             \u001b[0;32mif\u001b[0m \u001b[0mis_integer\u001b[0m\u001b[0;34m(\u001b[0m\u001b[0mindexer\u001b[0m\u001b[0;34m)\u001b[0m\u001b[0;34m:\u001b[0m\u001b[0;34m\u001b[0m\u001b[0;34m\u001b[0m\u001b[0m\n\u001b[1;32m   2908\u001b[0m                 \u001b[0mindexer\u001b[0m \u001b[0;34m=\u001b[0m \u001b[0;34m[\u001b[0m\u001b[0mindexer\u001b[0m\u001b[0;34m]\u001b[0m\u001b[0;34m\u001b[0m\u001b[0;34m\u001b[0m\u001b[0m\n",
            "\u001b[0;32m/usr/local/lib/python3.7/dist-packages/pandas/core/indexes/base.py\u001b[0m in \u001b[0;36mget_loc\u001b[0;34m(self, key, method, tolerance)\u001b[0m\n\u001b[1;32m   2898\u001b[0m                 \u001b[0;32mreturn\u001b[0m \u001b[0mself\u001b[0m\u001b[0;34m.\u001b[0m\u001b[0m_engine\u001b[0m\u001b[0;34m.\u001b[0m\u001b[0mget_loc\u001b[0m\u001b[0;34m(\u001b[0m\u001b[0mcasted_key\u001b[0m\u001b[0;34m)\u001b[0m\u001b[0;34m\u001b[0m\u001b[0;34m\u001b[0m\u001b[0m\n\u001b[1;32m   2899\u001b[0m             \u001b[0;32mexcept\u001b[0m \u001b[0mKeyError\u001b[0m \u001b[0;32mas\u001b[0m \u001b[0merr\u001b[0m\u001b[0;34m:\u001b[0m\u001b[0;34m\u001b[0m\u001b[0;34m\u001b[0m\u001b[0m\n\u001b[0;32m-> 2900\u001b[0;31m                 \u001b[0;32mraise\u001b[0m \u001b[0mKeyError\u001b[0m\u001b[0;34m(\u001b[0m\u001b[0mkey\u001b[0m\u001b[0;34m)\u001b[0m \u001b[0;32mfrom\u001b[0m \u001b[0merr\u001b[0m\u001b[0;34m\u001b[0m\u001b[0;34m\u001b[0m\u001b[0m\n\u001b[0m\u001b[1;32m   2901\u001b[0m \u001b[0;34m\u001b[0m\u001b[0m\n\u001b[1;32m   2902\u001b[0m         \u001b[0;32mif\u001b[0m \u001b[0mtolerance\u001b[0m \u001b[0;32mis\u001b[0m \u001b[0;32mnot\u001b[0m \u001b[0;32mNone\u001b[0m\u001b[0;34m:\u001b[0m\u001b[0;34m\u001b[0m\u001b[0;34m\u001b[0m\u001b[0m\n",
            "\u001b[0;31mKeyError\u001b[0m: 'compound'"
          ]
        }
      ]
    },
    {
      "cell_type": "code",
      "metadata": {
        "id": "aDlLx_GlUO4D"
      },
      "source": [
        ""
      ],
      "execution_count": null,
      "outputs": []
    },
    {
      "cell_type": "code",
      "metadata": {
        "colab": {
          "base_uri": "https://localhost:8080/",
          "height": 35
        },
        "id": "Xjy8vDSYIXr0",
        "outputId": "5f5dc464-c71b-45ff-ddff-22b32e95a440"
      },
      "source": [
        "str(feb_11_2021['created_at'][0])[0:10]"
      ],
      "execution_count": null,
      "outputs": [
        {
          "output_type": "execute_result",
          "data": {
            "application/vnd.google.colaboratory.intrinsic+json": {
              "type": "string"
            },
            "text/plain": [
              "'2021-02-11'"
            ]
          },
          "metadata": {
            "tags": []
          },
          "execution_count": 34
        }
      ]
    },
    {
      "cell_type": "code",
      "metadata": {
        "id": "lK063dUkK_qi"
      },
      "source": [
        "#chipotle_df.item_price = chipotle_df.item_price.map(lambda n: float(n.replace('$','')))\n",
        "feb_11_2021['date'] = feb_11_2021.created_at.map(lambda d: str(d)[0:10])"
      ],
      "execution_count": null,
      "outputs": []
    },
    {
      "cell_type": "code",
      "metadata": {
        "colab": {
          "base_uri": "https://localhost:8080/",
          "height": 419
        },
        "id": "aHzsA669INNs",
        "outputId": "5bd9d3aa-51bf-4042-967d-c45ee3ffc826"
      },
      "source": [
        "feb_11_2021[['created_at','date']]"
      ],
      "execution_count": null,
      "outputs": [
        {
          "output_type": "execute_result",
          "data": {
            "text/html": [
              "<div>\n",
              "<style scoped>\n",
              "    .dataframe tbody tr th:only-of-type {\n",
              "        vertical-align: middle;\n",
              "    }\n",
              "\n",
              "    .dataframe tbody tr th {\n",
              "        vertical-align: top;\n",
              "    }\n",
              "\n",
              "    .dataframe thead th {\n",
              "        text-align: right;\n",
              "    }\n",
              "</style>\n",
              "<table border=\"1\" class=\"dataframe\">\n",
              "  <thead>\n",
              "    <tr style=\"text-align: right;\">\n",
              "      <th></th>\n",
              "      <th>created_at</th>\n",
              "      <th>date</th>\n",
              "    </tr>\n",
              "  </thead>\n",
              "  <tbody>\n",
              "    <tr>\n",
              "      <th>0</th>\n",
              "      <td>2021-02-11 23:59:59</td>\n",
              "      <td>2021-02-11</td>\n",
              "    </tr>\n",
              "    <tr>\n",
              "      <th>1</th>\n",
              "      <td>2021-02-11 23:59:59</td>\n",
              "      <td>2021-02-11</td>\n",
              "    </tr>\n",
              "    <tr>\n",
              "      <th>2</th>\n",
              "      <td>2021-02-11 23:59:59</td>\n",
              "      <td>2021-02-11</td>\n",
              "    </tr>\n",
              "    <tr>\n",
              "      <th>3</th>\n",
              "      <td>2021-02-11 23:59:58</td>\n",
              "      <td>2021-02-11</td>\n",
              "    </tr>\n",
              "    <tr>\n",
              "      <th>4</th>\n",
              "      <td>2021-02-11 23:59:57</td>\n",
              "      <td>2021-02-11</td>\n",
              "    </tr>\n",
              "    <tr>\n",
              "      <th>...</th>\n",
              "      <td>...</td>\n",
              "      <td>...</td>\n",
              "    </tr>\n",
              "    <tr>\n",
              "      <th>495</th>\n",
              "      <td>2021-02-11 23:55:33</td>\n",
              "      <td>2021-02-11</td>\n",
              "    </tr>\n",
              "    <tr>\n",
              "      <th>496</th>\n",
              "      <td>2021-02-11 23:55:32</td>\n",
              "      <td>2021-02-11</td>\n",
              "    </tr>\n",
              "    <tr>\n",
              "      <th>497</th>\n",
              "      <td>2021-02-11 23:55:32</td>\n",
              "      <td>2021-02-11</td>\n",
              "    </tr>\n",
              "    <tr>\n",
              "      <th>498</th>\n",
              "      <td>2021-02-11 23:55:32</td>\n",
              "      <td>2021-02-11</td>\n",
              "    </tr>\n",
              "    <tr>\n",
              "      <th>499</th>\n",
              "      <td>2021-02-11 23:55:30</td>\n",
              "      <td>2021-02-11</td>\n",
              "    </tr>\n",
              "  </tbody>\n",
              "</table>\n",
              "<p>500 rows × 2 columns</p>\n",
              "</div>"
            ],
            "text/plain": [
              "              created_at        date\n",
              "0    2021-02-11 23:59:59  2021-02-11\n",
              "1    2021-02-11 23:59:59  2021-02-11\n",
              "2    2021-02-11 23:59:59  2021-02-11\n",
              "3    2021-02-11 23:59:58  2021-02-11\n",
              "4    2021-02-11 23:59:57  2021-02-11\n",
              "..                   ...         ...\n",
              "495  2021-02-11 23:55:33  2021-02-11\n",
              "496  2021-02-11 23:55:32  2021-02-11\n",
              "497  2021-02-11 23:55:32  2021-02-11\n",
              "498  2021-02-11 23:55:32  2021-02-11\n",
              "499  2021-02-11 23:55:30  2021-02-11\n",
              "\n",
              "[500 rows x 2 columns]"
            ]
          },
          "metadata": {
            "tags": []
          },
          "execution_count": 37
        }
      ]
    }
  ]
}