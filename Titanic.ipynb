{
 "cells": [
  {
   "cell_type": "code",
   "execution_count": 1,
   "metadata": {
    "id": "YHajUE8E_ioQ"
   },
   "outputs": [],
   "source": [
    "#librerias\n",
    "import pandas as pd\n",
    "import numpy as np\n",
    "from math import sqrt\n",
    "from sklearn.model_selection import train_test_split\n",
    "from statistics import mean\n",
    "#librerias de métricas\n",
    "from sklearn.model_selection import cross_val_score\n",
    "from sklearn.metrics import plot_confusion_matrix, accuracy_score\n",
    "from sklearn.metrics import precision_score, recall_score, f1_score\n",
    "from sklearn.metrics import roc_auc_score\n",
    "\n",
    "#Librerias de modelos\n",
    "from sklearn.linear_model import LogisticRegression\n",
    "from sklearn.tree import DecisionTreeClassifier\n",
    "from sklearn import tree\n",
    "from sklearn.ensemble import RandomForestClassifier, GradientBoostingClassifier\n",
    "from sklearn.neighbors import KNeighborsClassifier, KNeighborsRegressor\n",
    "from tensorflow.keras import Model, Input\n",
    "from tensorflow.keras import layers\n",
    "from tensorflow.keras.metrics import AUC\n",
    "from tensorflow.keras.utils import to_categorical\n",
    "from sklearn.preprocessing import StandardScaler\n",
    "from sklearn.metrics import classification_report, confusion_matrix\n",
    "from sklearn import preprocessing\n",
    "\n",
    "#librerías gráficos\n",
    "import seaborn as sns\n",
    "import matplotlib.pyplot as plt"
   ]
  },
  {
   "cell_type": "code",
   "execution_count": null,
   "metadata": {
    "colab": {
     "base_uri": "https://localhost:8080/"
    },
    "id": "unm4YIaxKO9d",
    "outputId": "b3e83531-9f29-42a8-d776-f945251ba1d3"
   },
   "outputs": [],
   "source": []
  },
  {
   "cell_type": "code",
   "execution_count": 2,
   "metadata": {
    "colab": {
     "base_uri": "https://localhost:8080/",
     "height": 355
    },
    "id": "Fw38X6UOKR3c",
    "outputId": "b17e73ac-ac2d-4d4e-b945-074784dafe32"
   },
   "outputs": [
    {
     "data": {
      "text/html": [
       "<div>\n",
       "<style scoped>\n",
       "    .dataframe tbody tr th:only-of-type {\n",
       "        vertical-align: middle;\n",
       "    }\n",
       "\n",
       "    .dataframe tbody tr th {\n",
       "        vertical-align: top;\n",
       "    }\n",
       "\n",
       "    .dataframe thead th {\n",
       "        text-align: right;\n",
       "    }\n",
       "</style>\n",
       "<table border=\"1\" class=\"dataframe\">\n",
       "  <thead>\n",
       "    <tr style=\"text-align: right;\">\n",
       "      <th></th>\n",
       "      <th>PassengerId</th>\n",
       "      <th>Survived</th>\n",
       "      <th>Pclass</th>\n",
       "      <th>Name</th>\n",
       "      <th>Sex</th>\n",
       "      <th>Age</th>\n",
       "      <th>SibSp</th>\n",
       "      <th>Parch</th>\n",
       "      <th>Ticket</th>\n",
       "      <th>Fare</th>\n",
       "      <th>Cabin</th>\n",
       "      <th>Embarked</th>\n",
       "    </tr>\n",
       "  </thead>\n",
       "  <tbody>\n",
       "    <tr>\n",
       "      <th>0</th>\n",
       "      <td>1</td>\n",
       "      <td>0</td>\n",
       "      <td>3</td>\n",
       "      <td>Braund, Mr. Owen Harris</td>\n",
       "      <td>male</td>\n",
       "      <td>22.0</td>\n",
       "      <td>1</td>\n",
       "      <td>0</td>\n",
       "      <td>A/5 21171</td>\n",
       "      <td>7.2500</td>\n",
       "      <td>NaN</td>\n",
       "      <td>S</td>\n",
       "    </tr>\n",
       "    <tr>\n",
       "      <th>1</th>\n",
       "      <td>2</td>\n",
       "      <td>1</td>\n",
       "      <td>1</td>\n",
       "      <td>Cumings, Mrs. John Bradley (Florence Briggs Th...</td>\n",
       "      <td>female</td>\n",
       "      <td>38.0</td>\n",
       "      <td>1</td>\n",
       "      <td>0</td>\n",
       "      <td>PC 17599</td>\n",
       "      <td>71.2833</td>\n",
       "      <td>C85</td>\n",
       "      <td>C</td>\n",
       "    </tr>\n",
       "    <tr>\n",
       "      <th>2</th>\n",
       "      <td>3</td>\n",
       "      <td>1</td>\n",
       "      <td>3</td>\n",
       "      <td>Heikkinen, Miss. Laina</td>\n",
       "      <td>female</td>\n",
       "      <td>26.0</td>\n",
       "      <td>0</td>\n",
       "      <td>0</td>\n",
       "      <td>STON/O2. 3101282</td>\n",
       "      <td>7.9250</td>\n",
       "      <td>NaN</td>\n",
       "      <td>S</td>\n",
       "    </tr>\n",
       "    <tr>\n",
       "      <th>3</th>\n",
       "      <td>4</td>\n",
       "      <td>1</td>\n",
       "      <td>1</td>\n",
       "      <td>Futrelle, Mrs. Jacques Heath (Lily May Peel)</td>\n",
       "      <td>female</td>\n",
       "      <td>35.0</td>\n",
       "      <td>1</td>\n",
       "      <td>0</td>\n",
       "      <td>113803</td>\n",
       "      <td>53.1000</td>\n",
       "      <td>C123</td>\n",
       "      <td>S</td>\n",
       "    </tr>\n",
       "    <tr>\n",
       "      <th>4</th>\n",
       "      <td>5</td>\n",
       "      <td>0</td>\n",
       "      <td>3</td>\n",
       "      <td>Allen, Mr. William Henry</td>\n",
       "      <td>male</td>\n",
       "      <td>35.0</td>\n",
       "      <td>0</td>\n",
       "      <td>0</td>\n",
       "      <td>373450</td>\n",
       "      <td>8.0500</td>\n",
       "      <td>NaN</td>\n",
       "      <td>S</td>\n",
       "    </tr>\n",
       "    <tr>\n",
       "      <th>5</th>\n",
       "      <td>6</td>\n",
       "      <td>0</td>\n",
       "      <td>3</td>\n",
       "      <td>Moran, Mr. James</td>\n",
       "      <td>male</td>\n",
       "      <td>NaN</td>\n",
       "      <td>0</td>\n",
       "      <td>0</td>\n",
       "      <td>330877</td>\n",
       "      <td>8.4583</td>\n",
       "      <td>NaN</td>\n",
       "      <td>Q</td>\n",
       "    </tr>\n",
       "    <tr>\n",
       "      <th>6</th>\n",
       "      <td>7</td>\n",
       "      <td>0</td>\n",
       "      <td>1</td>\n",
       "      <td>McCarthy, Mr. Timothy J</td>\n",
       "      <td>male</td>\n",
       "      <td>54.0</td>\n",
       "      <td>0</td>\n",
       "      <td>0</td>\n",
       "      <td>17463</td>\n",
       "      <td>51.8625</td>\n",
       "      <td>E46</td>\n",
       "      <td>S</td>\n",
       "    </tr>\n",
       "    <tr>\n",
       "      <th>7</th>\n",
       "      <td>8</td>\n",
       "      <td>0</td>\n",
       "      <td>3</td>\n",
       "      <td>Palsson, Master. Gosta Leonard</td>\n",
       "      <td>male</td>\n",
       "      <td>2.0</td>\n",
       "      <td>3</td>\n",
       "      <td>1</td>\n",
       "      <td>349909</td>\n",
       "      <td>21.0750</td>\n",
       "      <td>NaN</td>\n",
       "      <td>S</td>\n",
       "    </tr>\n",
       "    <tr>\n",
       "      <th>8</th>\n",
       "      <td>9</td>\n",
       "      <td>1</td>\n",
       "      <td>3</td>\n",
       "      <td>Johnson, Mrs. Oscar W (Elisabeth Vilhelmina Berg)</td>\n",
       "      <td>female</td>\n",
       "      <td>27.0</td>\n",
       "      <td>0</td>\n",
       "      <td>2</td>\n",
       "      <td>347742</td>\n",
       "      <td>11.1333</td>\n",
       "      <td>NaN</td>\n",
       "      <td>S</td>\n",
       "    </tr>\n",
       "    <tr>\n",
       "      <th>9</th>\n",
       "      <td>10</td>\n",
       "      <td>1</td>\n",
       "      <td>2</td>\n",
       "      <td>Nasser, Mrs. Nicholas (Adele Achem)</td>\n",
       "      <td>female</td>\n",
       "      <td>14.0</td>\n",
       "      <td>1</td>\n",
       "      <td>0</td>\n",
       "      <td>237736</td>\n",
       "      <td>30.0708</td>\n",
       "      <td>NaN</td>\n",
       "      <td>C</td>\n",
       "    </tr>\n",
       "  </tbody>\n",
       "</table>\n",
       "</div>"
      ],
      "text/plain": [
       "   PassengerId  Survived  Pclass  \\\n",
       "0            1         0       3   \n",
       "1            2         1       1   \n",
       "2            3         1       3   \n",
       "3            4         1       1   \n",
       "4            5         0       3   \n",
       "5            6         0       3   \n",
       "6            7         0       1   \n",
       "7            8         0       3   \n",
       "8            9         1       3   \n",
       "9           10         1       2   \n",
       "\n",
       "                                                Name     Sex   Age  SibSp  \\\n",
       "0                            Braund, Mr. Owen Harris    male  22.0      1   \n",
       "1  Cumings, Mrs. John Bradley (Florence Briggs Th...  female  38.0      1   \n",
       "2                             Heikkinen, Miss. Laina  female  26.0      0   \n",
       "3       Futrelle, Mrs. Jacques Heath (Lily May Peel)  female  35.0      1   \n",
       "4                           Allen, Mr. William Henry    male  35.0      0   \n",
       "5                                   Moran, Mr. James    male   NaN      0   \n",
       "6                            McCarthy, Mr. Timothy J    male  54.0      0   \n",
       "7                     Palsson, Master. Gosta Leonard    male   2.0      3   \n",
       "8  Johnson, Mrs. Oscar W (Elisabeth Vilhelmina Berg)  female  27.0      0   \n",
       "9                Nasser, Mrs. Nicholas (Adele Achem)  female  14.0      1   \n",
       "\n",
       "   Parch            Ticket     Fare Cabin Embarked  \n",
       "0      0         A/5 21171   7.2500   NaN        S  \n",
       "1      0          PC 17599  71.2833   C85        C  \n",
       "2      0  STON/O2. 3101282   7.9250   NaN        S  \n",
       "3      0            113803  53.1000  C123        S  \n",
       "4      0            373450   8.0500   NaN        S  \n",
       "5      0            330877   8.4583   NaN        Q  \n",
       "6      0             17463  51.8625   E46        S  \n",
       "7      1            349909  21.0750   NaN        S  \n",
       "8      2            347742  11.1333   NaN        S  \n",
       "9      0            237736  30.0708   NaN        C  "
      ]
     },
     "execution_count": 2,
     "metadata": {},
     "output_type": "execute_result"
    }
   ],
   "source": [
    "#titanicDF = pd.read_csv('/content/drive/MyDrive/Colab Notebooks/Trabajo DataScience/train.csv')\n",
    "titanicDF = pd.read_csv('train.csv')\n",
    "titanicDF.head(10)"
   ]
  },
  {
   "cell_type": "markdown",
   "metadata": {
    "id": "IQzgDFXbq1wP"
   },
   "source": [
    "# **Revisión de los datos**"
   ]
  },
  {
   "cell_type": "code",
   "execution_count": 3,
   "metadata": {
    "colab": {
     "base_uri": "https://localhost:8080/",
     "height": 294
    },
    "id": "-gu1l9P1rJUU",
    "outputId": "e18576ca-5a54-44f3-f581-8d04c1f533f8"
   },
   "outputs": [
    {
     "data": {
      "text/html": [
       "<div>\n",
       "<style scoped>\n",
       "    .dataframe tbody tr th:only-of-type {\n",
       "        vertical-align: middle;\n",
       "    }\n",
       "\n",
       "    .dataframe tbody tr th {\n",
       "        vertical-align: top;\n",
       "    }\n",
       "\n",
       "    .dataframe thead th {\n",
       "        text-align: right;\n",
       "    }\n",
       "</style>\n",
       "<table border=\"1\" class=\"dataframe\">\n",
       "  <thead>\n",
       "    <tr style=\"text-align: right;\">\n",
       "      <th></th>\n",
       "      <th>PassengerId</th>\n",
       "      <th>Survived</th>\n",
       "      <th>Pclass</th>\n",
       "      <th>Age</th>\n",
       "      <th>SibSp</th>\n",
       "      <th>Parch</th>\n",
       "      <th>Fare</th>\n",
       "    </tr>\n",
       "  </thead>\n",
       "  <tbody>\n",
       "    <tr>\n",
       "      <th>count</th>\n",
       "      <td>891.000000</td>\n",
       "      <td>891.000000</td>\n",
       "      <td>891.000000</td>\n",
       "      <td>714.000000</td>\n",
       "      <td>891.000000</td>\n",
       "      <td>891.000000</td>\n",
       "      <td>891.000000</td>\n",
       "    </tr>\n",
       "    <tr>\n",
       "      <th>mean</th>\n",
       "      <td>446.000000</td>\n",
       "      <td>0.383838</td>\n",
       "      <td>2.308642</td>\n",
       "      <td>29.699118</td>\n",
       "      <td>0.523008</td>\n",
       "      <td>0.381594</td>\n",
       "      <td>32.204208</td>\n",
       "    </tr>\n",
       "    <tr>\n",
       "      <th>std</th>\n",
       "      <td>257.353842</td>\n",
       "      <td>0.486592</td>\n",
       "      <td>0.836071</td>\n",
       "      <td>14.526497</td>\n",
       "      <td>1.102743</td>\n",
       "      <td>0.806057</td>\n",
       "      <td>49.693429</td>\n",
       "    </tr>\n",
       "    <tr>\n",
       "      <th>min</th>\n",
       "      <td>1.000000</td>\n",
       "      <td>0.000000</td>\n",
       "      <td>1.000000</td>\n",
       "      <td>0.420000</td>\n",
       "      <td>0.000000</td>\n",
       "      <td>0.000000</td>\n",
       "      <td>0.000000</td>\n",
       "    </tr>\n",
       "    <tr>\n",
       "      <th>25%</th>\n",
       "      <td>223.500000</td>\n",
       "      <td>0.000000</td>\n",
       "      <td>2.000000</td>\n",
       "      <td>20.125000</td>\n",
       "      <td>0.000000</td>\n",
       "      <td>0.000000</td>\n",
       "      <td>7.910400</td>\n",
       "    </tr>\n",
       "    <tr>\n",
       "      <th>50%</th>\n",
       "      <td>446.000000</td>\n",
       "      <td>0.000000</td>\n",
       "      <td>3.000000</td>\n",
       "      <td>28.000000</td>\n",
       "      <td>0.000000</td>\n",
       "      <td>0.000000</td>\n",
       "      <td>14.454200</td>\n",
       "    </tr>\n",
       "    <tr>\n",
       "      <th>75%</th>\n",
       "      <td>668.500000</td>\n",
       "      <td>1.000000</td>\n",
       "      <td>3.000000</td>\n",
       "      <td>38.000000</td>\n",
       "      <td>1.000000</td>\n",
       "      <td>0.000000</td>\n",
       "      <td>31.000000</td>\n",
       "    </tr>\n",
       "    <tr>\n",
       "      <th>max</th>\n",
       "      <td>891.000000</td>\n",
       "      <td>1.000000</td>\n",
       "      <td>3.000000</td>\n",
       "      <td>80.000000</td>\n",
       "      <td>8.000000</td>\n",
       "      <td>6.000000</td>\n",
       "      <td>512.329200</td>\n",
       "    </tr>\n",
       "  </tbody>\n",
       "</table>\n",
       "</div>"
      ],
      "text/plain": [
       "       PassengerId    Survived      Pclass         Age       SibSp  \\\n",
       "count   891.000000  891.000000  891.000000  714.000000  891.000000   \n",
       "mean    446.000000    0.383838    2.308642   29.699118    0.523008   \n",
       "std     257.353842    0.486592    0.836071   14.526497    1.102743   \n",
       "min       1.000000    0.000000    1.000000    0.420000    0.000000   \n",
       "25%     223.500000    0.000000    2.000000   20.125000    0.000000   \n",
       "50%     446.000000    0.000000    3.000000   28.000000    0.000000   \n",
       "75%     668.500000    1.000000    3.000000   38.000000    1.000000   \n",
       "max     891.000000    1.000000    3.000000   80.000000    8.000000   \n",
       "\n",
       "            Parch        Fare  \n",
       "count  891.000000  891.000000  \n",
       "mean     0.381594   32.204208  \n",
       "std      0.806057   49.693429  \n",
       "min      0.000000    0.000000  \n",
       "25%      0.000000    7.910400  \n",
       "50%      0.000000   14.454200  \n",
       "75%      0.000000   31.000000  \n",
       "max      6.000000  512.329200  "
      ]
     },
     "execution_count": 3,
     "metadata": {},
     "output_type": "execute_result"
    }
   ],
   "source": [
    "titanicDF.describe()"
   ]
  },
  {
   "cell_type": "code",
   "execution_count": 4,
   "metadata": {
    "colab": {
     "base_uri": "https://localhost:8080/",
     "height": 141
    },
    "id": "N__Z35lpsSTs",
    "outputId": "5fb99a5a-a408-4240-9ee7-696e53309362"
   },
   "outputs": [
    {
     "data": {
      "text/html": [
       "<div>\n",
       "<style scoped>\n",
       "    .dataframe tbody tr th:only-of-type {\n",
       "        vertical-align: middle;\n",
       "    }\n",
       "\n",
       "    .dataframe tbody tr th {\n",
       "        vertical-align: top;\n",
       "    }\n",
       "\n",
       "    .dataframe thead th {\n",
       "        text-align: right;\n",
       "    }\n",
       "</style>\n",
       "<table border=\"1\" class=\"dataframe\">\n",
       "  <thead>\n",
       "    <tr style=\"text-align: right;\">\n",
       "      <th></th>\n",
       "      <th>Pclass</th>\n",
       "      <th>Survived</th>\n",
       "    </tr>\n",
       "  </thead>\n",
       "  <tbody>\n",
       "    <tr>\n",
       "      <th>0</th>\n",
       "      <td>1</td>\n",
       "      <td>0.629630</td>\n",
       "    </tr>\n",
       "    <tr>\n",
       "      <th>1</th>\n",
       "      <td>2</td>\n",
       "      <td>0.472826</td>\n",
       "    </tr>\n",
       "    <tr>\n",
       "      <th>2</th>\n",
       "      <td>3</td>\n",
       "      <td>0.242363</td>\n",
       "    </tr>\n",
       "  </tbody>\n",
       "</table>\n",
       "</div>"
      ],
      "text/plain": [
       "   Pclass  Survived\n",
       "0       1  0.629630\n",
       "1       2  0.472826\n",
       "2       3  0.242363"
      ]
     },
     "execution_count": 4,
     "metadata": {},
     "output_type": "execute_result"
    }
   ],
   "source": [
    "titanicDF[['Pclass', 'Survived']].groupby(['Pclass'], as_index=False).mean().sort_values(by='Survived', ascending=False)"
   ]
  },
  {
   "cell_type": "code",
   "execution_count": 5,
   "metadata": {
    "colab": {
     "base_uri": "https://localhost:8080/",
     "height": 110
    },
    "id": "6zwRl5T_sbfg",
    "outputId": "c60a8245-ac9e-4c89-e394-1be909498994"
   },
   "outputs": [
    {
     "data": {
      "text/html": [
       "<div>\n",
       "<style scoped>\n",
       "    .dataframe tbody tr th:only-of-type {\n",
       "        vertical-align: middle;\n",
       "    }\n",
       "\n",
       "    .dataframe tbody tr th {\n",
       "        vertical-align: top;\n",
       "    }\n",
       "\n",
       "    .dataframe thead th {\n",
       "        text-align: right;\n",
       "    }\n",
       "</style>\n",
       "<table border=\"1\" class=\"dataframe\">\n",
       "  <thead>\n",
       "    <tr style=\"text-align: right;\">\n",
       "      <th></th>\n",
       "      <th>Sex</th>\n",
       "      <th>Survived</th>\n",
       "    </tr>\n",
       "  </thead>\n",
       "  <tbody>\n",
       "    <tr>\n",
       "      <th>0</th>\n",
       "      <td>female</td>\n",
       "      <td>0.742038</td>\n",
       "    </tr>\n",
       "    <tr>\n",
       "      <th>1</th>\n",
       "      <td>male</td>\n",
       "      <td>0.188908</td>\n",
       "    </tr>\n",
       "  </tbody>\n",
       "</table>\n",
       "</div>"
      ],
      "text/plain": [
       "      Sex  Survived\n",
       "0  female  0.742038\n",
       "1    male  0.188908"
      ]
     },
     "execution_count": 5,
     "metadata": {},
     "output_type": "execute_result"
    }
   ],
   "source": [
    "titanicDF[[\"Sex\", \"Survived\"]].groupby(['Sex'], as_index=False).mean().sort_values(by='Survived', ascending=False)"
   ]
  },
  {
   "cell_type": "code",
   "execution_count": 6,
   "metadata": {
    "colab": {
     "base_uri": "https://localhost:8080/",
     "height": 263
    },
    "id": "Ykx-hauuspwP",
    "outputId": "a3fa5ada-ac6b-4651-e155-ae268a36e1d0"
   },
   "outputs": [
    {
     "data": {
      "text/html": [
       "<div>\n",
       "<style scoped>\n",
       "    .dataframe tbody tr th:only-of-type {\n",
       "        vertical-align: middle;\n",
       "    }\n",
       "\n",
       "    .dataframe tbody tr th {\n",
       "        vertical-align: top;\n",
       "    }\n",
       "\n",
       "    .dataframe thead th {\n",
       "        text-align: right;\n",
       "    }\n",
       "</style>\n",
       "<table border=\"1\" class=\"dataframe\">\n",
       "  <thead>\n",
       "    <tr style=\"text-align: right;\">\n",
       "      <th></th>\n",
       "      <th>SibSp</th>\n",
       "      <th>Survived</th>\n",
       "    </tr>\n",
       "  </thead>\n",
       "  <tbody>\n",
       "    <tr>\n",
       "      <th>1</th>\n",
       "      <td>1</td>\n",
       "      <td>0.535885</td>\n",
       "    </tr>\n",
       "    <tr>\n",
       "      <th>2</th>\n",
       "      <td>2</td>\n",
       "      <td>0.464286</td>\n",
       "    </tr>\n",
       "    <tr>\n",
       "      <th>0</th>\n",
       "      <td>0</td>\n",
       "      <td>0.345395</td>\n",
       "    </tr>\n",
       "    <tr>\n",
       "      <th>3</th>\n",
       "      <td>3</td>\n",
       "      <td>0.250000</td>\n",
       "    </tr>\n",
       "    <tr>\n",
       "      <th>4</th>\n",
       "      <td>4</td>\n",
       "      <td>0.166667</td>\n",
       "    </tr>\n",
       "    <tr>\n",
       "      <th>5</th>\n",
       "      <td>5</td>\n",
       "      <td>0.000000</td>\n",
       "    </tr>\n",
       "    <tr>\n",
       "      <th>6</th>\n",
       "      <td>8</td>\n",
       "      <td>0.000000</td>\n",
       "    </tr>\n",
       "  </tbody>\n",
       "</table>\n",
       "</div>"
      ],
      "text/plain": [
       "   SibSp  Survived\n",
       "1      1  0.535885\n",
       "2      2  0.464286\n",
       "0      0  0.345395\n",
       "3      3  0.250000\n",
       "4      4  0.166667\n",
       "5      5  0.000000\n",
       "6      8  0.000000"
      ]
     },
     "execution_count": 6,
     "metadata": {},
     "output_type": "execute_result"
    }
   ],
   "source": [
    "titanicDF[[\"SibSp\", \"Survived\"]].groupby(['SibSp'], as_index=False).mean().sort_values(by='Survived', ascending=False)"
   ]
  },
  {
   "cell_type": "code",
   "execution_count": 7,
   "metadata": {
    "colab": {
     "base_uri": "https://localhost:8080/",
     "height": 263
    },
    "id": "gMbv03p0stQ_",
    "outputId": "1d39ded2-9ac5-434f-e716-3ebf2ef21eaa"
   },
   "outputs": [
    {
     "data": {
      "text/html": [
       "<div>\n",
       "<style scoped>\n",
       "    .dataframe tbody tr th:only-of-type {\n",
       "        vertical-align: middle;\n",
       "    }\n",
       "\n",
       "    .dataframe tbody tr th {\n",
       "        vertical-align: top;\n",
       "    }\n",
       "\n",
       "    .dataframe thead th {\n",
       "        text-align: right;\n",
       "    }\n",
       "</style>\n",
       "<table border=\"1\" class=\"dataframe\">\n",
       "  <thead>\n",
       "    <tr style=\"text-align: right;\">\n",
       "      <th></th>\n",
       "      <th>Parch</th>\n",
       "      <th>Survived</th>\n",
       "    </tr>\n",
       "  </thead>\n",
       "  <tbody>\n",
       "    <tr>\n",
       "      <th>3</th>\n",
       "      <td>3</td>\n",
       "      <td>0.600000</td>\n",
       "    </tr>\n",
       "    <tr>\n",
       "      <th>1</th>\n",
       "      <td>1</td>\n",
       "      <td>0.550847</td>\n",
       "    </tr>\n",
       "    <tr>\n",
       "      <th>2</th>\n",
       "      <td>2</td>\n",
       "      <td>0.500000</td>\n",
       "    </tr>\n",
       "    <tr>\n",
       "      <th>0</th>\n",
       "      <td>0</td>\n",
       "      <td>0.343658</td>\n",
       "    </tr>\n",
       "    <tr>\n",
       "      <th>5</th>\n",
       "      <td>5</td>\n",
       "      <td>0.200000</td>\n",
       "    </tr>\n",
       "    <tr>\n",
       "      <th>4</th>\n",
       "      <td>4</td>\n",
       "      <td>0.000000</td>\n",
       "    </tr>\n",
       "    <tr>\n",
       "      <th>6</th>\n",
       "      <td>6</td>\n",
       "      <td>0.000000</td>\n",
       "    </tr>\n",
       "  </tbody>\n",
       "</table>\n",
       "</div>"
      ],
      "text/plain": [
       "   Parch  Survived\n",
       "3      3  0.600000\n",
       "1      1  0.550847\n",
       "2      2  0.500000\n",
       "0      0  0.343658\n",
       "5      5  0.200000\n",
       "4      4  0.000000\n",
       "6      6  0.000000"
      ]
     },
     "execution_count": 7,
     "metadata": {},
     "output_type": "execute_result"
    }
   ],
   "source": [
    "titanicDF[[\"Parch\", \"Survived\"]].groupby(['Parch'], as_index=False).mean().sort_values(by='Survived', ascending=False)"
   ]
  },
  {
   "cell_type": "code",
   "execution_count": 8,
   "metadata": {
    "colab": {
     "base_uri": "https://localhost:8080/",
     "height": 351
    },
    "id": "aUeWv_epwrc4",
    "outputId": "ce442655-ecbe-4d5a-e684-985a10fda6b1"
   },
   "outputs": [
    {
     "name": "stderr",
     "output_type": "stream",
     "text": [
      "C:\\Users\\n64eg\\anaconda3\\lib\\site-packages\\seaborn\\_decorators.py:36: FutureWarning: Pass the following variables as keyword args: x, y. From version 0.12, the only valid positional argument will be `data`, and passing other arguments without an explicit keyword will result in an error or misinterpretation.\n",
      "  warnings.warn(\n"
     ]
    },
    {
     "data": {
      "text/plain": [
       "<AxesSubplot:xlabel='Survived', ylabel='Age'>"
      ]
     },
     "execution_count": 8,
     "metadata": {},
     "output_type": "execute_result"
    },
    {
     "data": {
      "image/png": "[encoded data removed]",
      "text/plain": [
       "<Figure size 432x288 with 1 Axes>"
      ]
     },
     "metadata": {
      "needs_background": "light"
     },
     "output_type": "display_data"
    }
   ],
   "source": [
    "sns.boxplot('Survived','Age', data=titanicDF)"
   ]
  },
  {
   "cell_type": "markdown",
   "metadata": {
    "id": "wQla72BirAEC"
   },
   "source": [
    "# **Trabajo con los datos**"
   ]
  },
  {
   "cell_type": "markdown",
   "metadata": {
    "id": "qpHWhiNgK050"
   },
   "source": [
    "**A. LIMPIEZA DE DATOS**"
   ]
  },
  {
   "cell_type": "markdown",
   "metadata": {
    "id": "zboxiQxGK_vf"
   },
   "source": [
    "A.1.Tramiento de valores nulos"
   ]
  },
  {
   "cell_type": "code",
   "execution_count": 9,
   "metadata": {
    "colab": {
     "base_uri": "https://localhost:8080/"
    },
    "id": "bJqMTwVIGcJB",
    "outputId": "e8598f35-7c5c-4279-fb25-d914ca938ce6"
   },
   "outputs": [
    {
     "name": "stderr",
     "output_type": "stream",
     "text": [
      "<ipython-input-9-b3c3936deb89>:9: SettingWithCopyWarning: \n",
      "A value is trying to be set on a copy of a slice from a DataFrame\n",
      "\n",
      "See the caveats in the documentation: https://pandas.pydata.org/pandas-docs/stable/user_guide/indexing.html#returning-a-view-versus-a-copy\n",
      "  titanicDF.Age[titanicDF.Age.isnull()] =27\n"
     ]
    },
    {
     "data": {
      "text/plain": [
       "PassengerId    0\n",
       "Survived       0\n",
       "Pclass         0\n",
       "Name           0\n",
       "Sex            0\n",
       "Age            0\n",
       "SibSp          0\n",
       "Parch          0\n",
       "Ticket         0\n",
       "Fare           0\n",
       "Embarked       0\n",
       "dtype: int64"
      ]
     },
     "execution_count": 9,
     "metadata": {},
     "output_type": "execute_result"
    }
   ],
   "source": [
    "valores_nulos_contador = titanicDF.isnull().sum()\n",
    "valores_nulos_contador\n",
    "\n",
    "##como la cabina tiene un alto número de nulos -> retiraremos la columna el análisis\n",
    "titanicDF = titanicDF.drop('Cabin',1)\n",
    "##para la edad  lo reemplazaré por los valores medios\n",
    "media = titanicDF.Age.mean() \n",
    "media\n",
    "titanicDF.Age[titanicDF.Age.isnull()] =27\n",
    "##para el embarked  -> retiro las filas nulas del análisis \n",
    "titanicDF = titanicDF.dropna()\n",
    "\n",
    "valores_nulos_contador = titanicDF.isnull().sum()\n",
    "valores_nulos_contador\n"
   ]
  },
  {
   "cell_type": "markdown",
   "metadata": {
    "id": "x2OV1tZQLe4S"
   },
   "source": [
    "A.2.Creación de nuevas columnas"
   ]
  },
  {
   "cell_type": "code",
   "execution_count": 10,
   "metadata": {
    "colab": {
     "base_uri": "https://localhost:8080/",
     "height": 1000
    },
    "id": "xR04fbToLyGx",
    "outputId": "08ac32ec-9b7d-4662-c2de-98872a866638"
   },
   "outputs": [
    {
     "data": {
      "text/html": [
       "<div>\n",
       "<style scoped>\n",
       "    .dataframe tbody tr th:only-of-type {\n",
       "        vertical-align: middle;\n",
       "    }\n",
       "\n",
       "    .dataframe tbody tr th {\n",
       "        vertical-align: top;\n",
       "    }\n",
       "\n",
       "    .dataframe thead th {\n",
       "        text-align: right;\n",
       "    }\n",
       "</style>\n",
       "<table border=\"1\" class=\"dataframe\">\n",
       "  <thead>\n",
       "    <tr style=\"text-align: right;\">\n",
       "      <th></th>\n",
       "      <th>PassengerId</th>\n",
       "      <th>Survived</th>\n",
       "      <th>Pclass</th>\n",
       "      <th>Name</th>\n",
       "      <th>Sex</th>\n",
       "      <th>Age</th>\n",
       "      <th>SibSp</th>\n",
       "      <th>Parch</th>\n",
       "      <th>Ticket</th>\n",
       "      <th>Fare</th>\n",
       "      <th>Embarked</th>\n",
       "      <th>Title</th>\n",
       "      <th>IsAlone</th>\n",
       "      <th>IsAlone_cat</th>\n",
       "      <th>SibSp_Norm</th>\n",
       "      <th>Fare_Norm</th>\n",
       "      <th>Parch_Norm</th>\n",
       "    </tr>\n",
       "  </thead>\n",
       "  <tbody>\n",
       "    <tr>\n",
       "      <th>0</th>\n",
       "      <td>1</td>\n",
       "      <td>0</td>\n",
       "      <td>3</td>\n",
       "      <td>Braund, Mr. Owen Harris</td>\n",
       "      <td>male</td>\n",
       "      <td>22.0</td>\n",
       "      <td>1</td>\n",
       "      <td>0</td>\n",
       "      <td>A/5 21171</td>\n",
       "      <td>7.2500</td>\n",
       "      <td>S</td>\n",
       "      <td>Mr</td>\n",
       "      <td>0</td>\n",
       "      <td>False</td>\n",
       "      <td>0.431350</td>\n",
       "      <td>-0.500240</td>\n",
       "      <td>-0.474326</td>\n",
       "    </tr>\n",
       "    <tr>\n",
       "      <th>1</th>\n",
       "      <td>2</td>\n",
       "      <td>1</td>\n",
       "      <td>1</td>\n",
       "      <td>Cumings, Mrs. John Bradley (Florence Briggs Th...</td>\n",
       "      <td>female</td>\n",
       "      <td>38.0</td>\n",
       "      <td>1</td>\n",
       "      <td>0</td>\n",
       "      <td>PC 17599</td>\n",
       "      <td>71.2833</td>\n",
       "      <td>C</td>\n",
       "      <td>Miss</td>\n",
       "      <td>0</td>\n",
       "      <td>False</td>\n",
       "      <td>0.431350</td>\n",
       "      <td>0.788947</td>\n",
       "      <td>-0.474326</td>\n",
       "    </tr>\n",
       "    <tr>\n",
       "      <th>2</th>\n",
       "      <td>3</td>\n",
       "      <td>1</td>\n",
       "      <td>3</td>\n",
       "      <td>Heikkinen, Miss. Laina</td>\n",
       "      <td>female</td>\n",
       "      <td>26.0</td>\n",
       "      <td>0</td>\n",
       "      <td>0</td>\n",
       "      <td>STON/O2. 3101282</td>\n",
       "      <td>7.9250</td>\n",
       "      <td>S</td>\n",
       "      <td>Miss</td>\n",
       "      <td>1</td>\n",
       "      <td>True</td>\n",
       "      <td>-0.475199</td>\n",
       "      <td>-0.486650</td>\n",
       "      <td>-0.474326</td>\n",
       "    </tr>\n",
       "    <tr>\n",
       "      <th>3</th>\n",
       "      <td>4</td>\n",
       "      <td>1</td>\n",
       "      <td>1</td>\n",
       "      <td>Futrelle, Mrs. Jacques Heath (Lily May Peel)</td>\n",
       "      <td>female</td>\n",
       "      <td>35.0</td>\n",
       "      <td>1</td>\n",
       "      <td>0</td>\n",
       "      <td>113803</td>\n",
       "      <td>53.1000</td>\n",
       "      <td>S</td>\n",
       "      <td>Miss</td>\n",
       "      <td>0</td>\n",
       "      <td>False</td>\n",
       "      <td>0.431350</td>\n",
       "      <td>0.422861</td>\n",
       "      <td>-0.474326</td>\n",
       "    </tr>\n",
       "    <tr>\n",
       "      <th>4</th>\n",
       "      <td>5</td>\n",
       "      <td>0</td>\n",
       "      <td>3</td>\n",
       "      <td>Allen, Mr. William Henry</td>\n",
       "      <td>male</td>\n",
       "      <td>35.0</td>\n",
       "      <td>0</td>\n",
       "      <td>0</td>\n",
       "      <td>373450</td>\n",
       "      <td>8.0500</td>\n",
       "      <td>S</td>\n",
       "      <td>Mr</td>\n",
       "      <td>1</td>\n",
       "      <td>True</td>\n",
       "      <td>-0.475199</td>\n",
       "      <td>-0.484133</td>\n",
       "      <td>-0.474326</td>\n",
       "    </tr>\n",
       "    <tr>\n",
       "      <th>5</th>\n",
       "      <td>6</td>\n",
       "      <td>0</td>\n",
       "      <td>3</td>\n",
       "      <td>Moran, Mr. James</td>\n",
       "      <td>male</td>\n",
       "      <td>27.0</td>\n",
       "      <td>0</td>\n",
       "      <td>0</td>\n",
       "      <td>330877</td>\n",
       "      <td>8.4583</td>\n",
       "      <td>Q</td>\n",
       "      <td>Mr</td>\n",
       "      <td>1</td>\n",
       "      <td>True</td>\n",
       "      <td>-0.475199</td>\n",
       "      <td>-0.475913</td>\n",
       "      <td>-0.474326</td>\n",
       "    </tr>\n",
       "    <tr>\n",
       "      <th>6</th>\n",
       "      <td>7</td>\n",
       "      <td>0</td>\n",
       "      <td>1</td>\n",
       "      <td>McCarthy, Mr. Timothy J</td>\n",
       "      <td>male</td>\n",
       "      <td>54.0</td>\n",
       "      <td>0</td>\n",
       "      <td>0</td>\n",
       "      <td>17463</td>\n",
       "      <td>51.8625</td>\n",
       "      <td>S</td>\n",
       "      <td>Mr</td>\n",
       "      <td>1</td>\n",
       "      <td>True</td>\n",
       "      <td>-0.475199</td>\n",
       "      <td>0.397946</td>\n",
       "      <td>-0.474326</td>\n",
       "    </tr>\n",
       "    <tr>\n",
       "      <th>7</th>\n",
       "      <td>8</td>\n",
       "      <td>0</td>\n",
       "      <td>3</td>\n",
       "      <td>Palsson, Master. Gosta Leonard</td>\n",
       "      <td>male</td>\n",
       "      <td>2.0</td>\n",
       "      <td>3</td>\n",
       "      <td>1</td>\n",
       "      <td>349909</td>\n",
       "      <td>21.0750</td>\n",
       "      <td>S</td>\n",
       "      <td>Mr</td>\n",
       "      <td>0</td>\n",
       "      <td>False</td>\n",
       "      <td>2.244449</td>\n",
       "      <td>-0.221900</td>\n",
       "      <td>0.765897</td>\n",
       "    </tr>\n",
       "    <tr>\n",
       "      <th>8</th>\n",
       "      <td>9</td>\n",
       "      <td>1</td>\n",
       "      <td>3</td>\n",
       "      <td>Johnson, Mrs. Oscar W (Elisabeth Vilhelmina Berg)</td>\n",
       "      <td>female</td>\n",
       "      <td>27.0</td>\n",
       "      <td>0</td>\n",
       "      <td>2</td>\n",
       "      <td>347742</td>\n",
       "      <td>11.1333</td>\n",
       "      <td>S</td>\n",
       "      <td>Miss</td>\n",
       "      <td>0</td>\n",
       "      <td>False</td>\n",
       "      <td>-0.475199</td>\n",
       "      <td>-0.422057</td>\n",
       "      <td>2.006119</td>\n",
       "    </tr>\n",
       "    <tr>\n",
       "      <th>9</th>\n",
       "      <td>10</td>\n",
       "      <td>1</td>\n",
       "      <td>2</td>\n",
       "      <td>Nasser, Mrs. Nicholas (Adele Achem)</td>\n",
       "      <td>female</td>\n",
       "      <td>14.0</td>\n",
       "      <td>1</td>\n",
       "      <td>0</td>\n",
       "      <td>237736</td>\n",
       "      <td>30.0708</td>\n",
       "      <td>C</td>\n",
       "      <td>Miss</td>\n",
       "      <td>0</td>\n",
       "      <td>False</td>\n",
       "      <td>0.431350</td>\n",
       "      <td>-0.040787</td>\n",
       "      <td>-0.474326</td>\n",
       "    </tr>\n",
       "  </tbody>\n",
       "</table>\n",
       "</div>"
      ],
      "text/plain": [
       "   PassengerId  Survived  Pclass  \\\n",
       "0            1         0       3   \n",
       "1            2         1       1   \n",
       "2            3         1       3   \n",
       "3            4         1       1   \n",
       "4            5         0       3   \n",
       "5            6         0       3   \n",
       "6            7         0       1   \n",
       "7            8         0       3   \n",
       "8            9         1       3   \n",
       "9           10         1       2   \n",
       "\n",
       "                                                Name     Sex   Age  SibSp  \\\n",
       "0                            Braund, Mr. Owen Harris    male  22.0      1   \n",
       "1  Cumings, Mrs. John Bradley (Florence Briggs Th...  female  38.0      1   \n",
       "2                             Heikkinen, Miss. Laina  female  26.0      0   \n",
       "3       Futrelle, Mrs. Jacques Heath (Lily May Peel)  female  35.0      1   \n",
       "4                           Allen, Mr. William Henry    male  35.0      0   \n",
       "5                                   Moran, Mr. James    male  27.0      0   \n",
       "6                            McCarthy, Mr. Timothy J    male  54.0      0   \n",
       "7                     Palsson, Master. Gosta Leonard    male   2.0      3   \n",
       "8  Johnson, Mrs. Oscar W (Elisabeth Vilhelmina Berg)  female  27.0      0   \n",
       "9                Nasser, Mrs. Nicholas (Adele Achem)  female  14.0      1   \n",
       "\n",
       "   Parch            Ticket     Fare Embarked Title  IsAlone  IsAlone_cat  \\\n",
       "0      0         A/5 21171   7.2500        S    Mr        0        False   \n",
       "1      0          PC 17599  71.2833        C  Miss        0        False   \n",
       "2      0  STON/O2. 3101282   7.9250        S  Miss        1         True   \n",
       "3      0            113803  53.1000        S  Miss        0        False   \n",
       "4      0            373450   8.0500        S    Mr        1         True   \n",
       "5      0            330877   8.4583        Q    Mr        1         True   \n",
       "6      0             17463  51.8625        S    Mr        1         True   \n",
       "7      1            349909  21.0750        S    Mr        0        False   \n",
       "8      2            347742  11.1333        S  Miss        0        False   \n",
       "9      0            237736  30.0708        C  Miss        0        False   \n",
       "\n",
       "   SibSp_Norm  Fare_Norm  Parch_Norm  \n",
       "0    0.431350  -0.500240   -0.474326  \n",
       "1    0.431350   0.788947   -0.474326  \n",
       "2   -0.475199  -0.486650   -0.474326  \n",
       "3    0.431350   0.422861   -0.474326  \n",
       "4   -0.475199  -0.484133   -0.474326  \n",
       "5   -0.475199  -0.475913   -0.474326  \n",
       "6   -0.475199   0.397946   -0.474326  \n",
       "7    2.244449  -0.221900    0.765897  \n",
       "8   -0.475199  -0.422057    2.006119  \n",
       "9    0.431350  -0.040787   -0.474326  "
      ]
     },
     "execution_count": 10,
     "metadata": {},
     "output_type": "execute_result"
    },
    {
     "data": {
      "image/png": "[encoded data removed]",
      "text/plain": [
       "<Figure size 432x360 with 3 Axes>"
      ]
     },
     "metadata": {
      "needs_background": "light"
     },
     "output_type": "display_data"
    }
   ],
   "source": [
    "#Columna Title\n",
    "titanicDF['Title'] = titanicDF.Name.apply(lambda x: x.split(',')[1].split(' ')[1].strip())\n",
    "\n",
    "titanicDF['Title'] = titanicDF['Title'].replace(['Countess.','Capt.', 'Col.','Don.', 'Dr.', 'Major.', 'Rev.', 'Sir.', 'Jonkheer.', 'the'],'Rare')\n",
    "titanicDF['Title'] = titanicDF['Title'].replace(['Ms.','Lady.', 'Dona.','Mrs.','Mlle.', 'Miss.'], 'Miss')\n",
    "titanicDF['Title'] = titanicDF['Title'].replace('Mme.', 'Mrs')\n",
    "titanicDF['Title'] = titanicDF['Title'].replace(['Master.','Mr.'], 'Mr')\n",
    "\n",
    "#Columna está acompañado\n",
    "titanicDF['IsAlone'] = titanicDF['SibSp'] + titanicDF['Parch'] < 1\n",
    "titanicDF['IsAlone_cat'] = titanicDF['IsAlone']\n",
    "titanicDF['IsAlone'] = titanicDF['IsAlone'].astype(int)\n",
    "\n",
    "#Vamos a estandarizar algunas columnas\n",
    "#revisamos si las variables tiene una distribución normal:\n",
    "fig,(ax1,ax2,ax3)=plt.subplots(ncols=3,figsize=(6,5))\n",
    "ax1.set_title('Antes de estandarizar')\n",
    "sns.kdeplot(titanicDF['SibSp'], ax=ax1)\n",
    "sns.kdeplot(titanicDF['Fare'], ax=ax2)\n",
    "sns.kdeplot(titanicDF['Parch'], ax=ax3)\n",
    "\n",
    "scaler = preprocessing.StandardScaler()\n",
    "titanicDF[['SibSp_Norm','Fare_Norm','Parch_Norm']] = scaler.fit_transform(titanicDF[['SibSp','Fare','Parch']])\n",
    "scaler = preprocessing.Normalizer(norm='l2', copy=True)\n",
    "\n",
    "titanicDF.head(10)\n"
   ]
  },
  {
   "cell_type": "markdown",
   "metadata": {
    "id": "ZayLU4UNM9B-"
   },
   "source": [
    "A.3.Creación de variables dummy"
   ]
  },
  {
   "cell_type": "code",
   "execution_count": 11,
   "metadata": {
    "colab": {
     "base_uri": "https://localhost:8080/",
     "height": 913
    },
    "id": "ZFSLxw9-TQE3",
    "outputId": "77c008f5-b849-422a-cfbf-8125252641d7"
   },
   "outputs": [
    {
     "data": {
      "text/html": [
       "<div>\n",
       "<style scoped>\n",
       "    .dataframe tbody tr th:only-of-type {\n",
       "        vertical-align: middle;\n",
       "    }\n",
       "\n",
       "    .dataframe tbody tr th {\n",
       "        vertical-align: top;\n",
       "    }\n",
       "\n",
       "    .dataframe thead th {\n",
       "        text-align: right;\n",
       "    }\n",
       "</style>\n",
       "<table border=\"1\" class=\"dataframe\">\n",
       "  <thead>\n",
       "    <tr style=\"text-align: right;\">\n",
       "      <th></th>\n",
       "      <th>PassengerId</th>\n",
       "      <th>Survived</th>\n",
       "      <th>Name</th>\n",
       "      <th>Age</th>\n",
       "      <th>SibSp</th>\n",
       "      <th>Parch</th>\n",
       "      <th>Ticket</th>\n",
       "      <th>Fare</th>\n",
       "      <th>IsAlone</th>\n",
       "      <th>SibSp_Norm</th>\n",
       "      <th>...</th>\n",
       "      <th>Pclass_3</th>\n",
       "      <th>Embarked_C</th>\n",
       "      <th>Embarked_Q</th>\n",
       "      <th>Embarked_S</th>\n",
       "      <th>Title_Miss</th>\n",
       "      <th>Title_Mr</th>\n",
       "      <th>Title_Mrs</th>\n",
       "      <th>Title_Rare</th>\n",
       "      <th>IsAlone_cat_False</th>\n",
       "      <th>IsAlone_cat_True</th>\n",
       "    </tr>\n",
       "  </thead>\n",
       "  <tbody>\n",
       "    <tr>\n",
       "      <th>0</th>\n",
       "      <td>1</td>\n",
       "      <td>0</td>\n",
       "      <td>Braund, Mr. Owen Harris</td>\n",
       "      <td>22.0</td>\n",
       "      <td>1</td>\n",
       "      <td>0</td>\n",
       "      <td>A/5 21171</td>\n",
       "      <td>7.2500</td>\n",
       "      <td>0</td>\n",
       "      <td>0.431350</td>\n",
       "      <td>...</td>\n",
       "      <td>1</td>\n",
       "      <td>0</td>\n",
       "      <td>0</td>\n",
       "      <td>1</td>\n",
       "      <td>0</td>\n",
       "      <td>1</td>\n",
       "      <td>0</td>\n",
       "      <td>0</td>\n",
       "      <td>1</td>\n",
       "      <td>0</td>\n",
       "    </tr>\n",
       "    <tr>\n",
       "      <th>1</th>\n",
       "      <td>2</td>\n",
       "      <td>1</td>\n",
       "      <td>Cumings, Mrs. John Bradley (Florence Briggs Th...</td>\n",
       "      <td>38.0</td>\n",
       "      <td>1</td>\n",
       "      <td>0</td>\n",
       "      <td>PC 17599</td>\n",
       "      <td>71.2833</td>\n",
       "      <td>0</td>\n",
       "      <td>0.431350</td>\n",
       "      <td>...</td>\n",
       "      <td>0</td>\n",
       "      <td>1</td>\n",
       "      <td>0</td>\n",
       "      <td>0</td>\n",
       "      <td>1</td>\n",
       "      <td>0</td>\n",
       "      <td>0</td>\n",
       "      <td>0</td>\n",
       "      <td>1</td>\n",
       "      <td>0</td>\n",
       "    </tr>\n",
       "    <tr>\n",
       "      <th>2</th>\n",
       "      <td>3</td>\n",
       "      <td>1</td>\n",
       "      <td>Heikkinen, Miss. Laina</td>\n",
       "      <td>26.0</td>\n",
       "      <td>0</td>\n",
       "      <td>0</td>\n",
       "      <td>STON/O2. 3101282</td>\n",
       "      <td>7.9250</td>\n",
       "      <td>1</td>\n",
       "      <td>-0.475199</td>\n",
       "      <td>...</td>\n",
       "      <td>1</td>\n",
       "      <td>0</td>\n",
       "      <td>0</td>\n",
       "      <td>1</td>\n",
       "      <td>1</td>\n",
       "      <td>0</td>\n",
       "      <td>0</td>\n",
       "      <td>0</td>\n",
       "      <td>0</td>\n",
       "      <td>1</td>\n",
       "    </tr>\n",
       "    <tr>\n",
       "      <th>3</th>\n",
       "      <td>4</td>\n",
       "      <td>1</td>\n",
       "      <td>Futrelle, Mrs. Jacques Heath (Lily May Peel)</td>\n",
       "      <td>35.0</td>\n",
       "      <td>1</td>\n",
       "      <td>0</td>\n",
       "      <td>113803</td>\n",
       "      <td>53.1000</td>\n",
       "      <td>0</td>\n",
       "      <td>0.431350</td>\n",
       "      <td>...</td>\n",
       "      <td>0</td>\n",
       "      <td>0</td>\n",
       "      <td>0</td>\n",
       "      <td>1</td>\n",
       "      <td>1</td>\n",
       "      <td>0</td>\n",
       "      <td>0</td>\n",
       "      <td>0</td>\n",
       "      <td>1</td>\n",
       "      <td>0</td>\n",
       "    </tr>\n",
       "    <tr>\n",
       "      <th>4</th>\n",
       "      <td>5</td>\n",
       "      <td>0</td>\n",
       "      <td>Allen, Mr. William Henry</td>\n",
       "      <td>35.0</td>\n",
       "      <td>0</td>\n",
       "      <td>0</td>\n",
       "      <td>373450</td>\n",
       "      <td>8.0500</td>\n",
       "      <td>1</td>\n",
       "      <td>-0.475199</td>\n",
       "      <td>...</td>\n",
       "      <td>1</td>\n",
       "      <td>0</td>\n",
       "      <td>0</td>\n",
       "      <td>1</td>\n",
       "      <td>0</td>\n",
       "      <td>1</td>\n",
       "      <td>0</td>\n",
       "      <td>0</td>\n",
       "      <td>0</td>\n",
       "      <td>1</td>\n",
       "    </tr>\n",
       "    <tr>\n",
       "      <th>5</th>\n",
       "      <td>6</td>\n",
       "      <td>0</td>\n",
       "      <td>Moran, Mr. James</td>\n",
       "      <td>27.0</td>\n",
       "      <td>0</td>\n",
       "      <td>0</td>\n",
       "      <td>330877</td>\n",
       "      <td>8.4583</td>\n",
       "      <td>1</td>\n",
       "      <td>-0.475199</td>\n",
       "      <td>...</td>\n",
       "      <td>1</td>\n",
       "      <td>0</td>\n",
       "      <td>1</td>\n",
       "      <td>0</td>\n",
       "      <td>0</td>\n",
       "      <td>1</td>\n",
       "      <td>0</td>\n",
       "      <td>0</td>\n",
       "      <td>0</td>\n",
       "      <td>1</td>\n",
       "    </tr>\n",
       "    <tr>\n",
       "      <th>6</th>\n",
       "      <td>7</td>\n",
       "      <td>0</td>\n",
       "      <td>McCarthy, Mr. Timothy J</td>\n",
       "      <td>54.0</td>\n",
       "      <td>0</td>\n",
       "      <td>0</td>\n",
       "      <td>17463</td>\n",
       "      <td>51.8625</td>\n",
       "      <td>1</td>\n",
       "      <td>-0.475199</td>\n",
       "      <td>...</td>\n",
       "      <td>0</td>\n",
       "      <td>0</td>\n",
       "      <td>0</td>\n",
       "      <td>1</td>\n",
       "      <td>0</td>\n",
       "      <td>1</td>\n",
       "      <td>0</td>\n",
       "      <td>0</td>\n",
       "      <td>0</td>\n",
       "      <td>1</td>\n",
       "    </tr>\n",
       "    <tr>\n",
       "      <th>7</th>\n",
       "      <td>8</td>\n",
       "      <td>0</td>\n",
       "      <td>Palsson, Master. Gosta Leonard</td>\n",
       "      <td>2.0</td>\n",
       "      <td>3</td>\n",
       "      <td>1</td>\n",
       "      <td>349909</td>\n",
       "      <td>21.0750</td>\n",
       "      <td>0</td>\n",
       "      <td>2.244449</td>\n",
       "      <td>...</td>\n",
       "      <td>1</td>\n",
       "      <td>0</td>\n",
       "      <td>0</td>\n",
       "      <td>1</td>\n",
       "      <td>0</td>\n",
       "      <td>1</td>\n",
       "      <td>0</td>\n",
       "      <td>0</td>\n",
       "      <td>1</td>\n",
       "      <td>0</td>\n",
       "    </tr>\n",
       "    <tr>\n",
       "      <th>8</th>\n",
       "      <td>9</td>\n",
       "      <td>1</td>\n",
       "      <td>Johnson, Mrs. Oscar W (Elisabeth Vilhelmina Berg)</td>\n",
       "      <td>27.0</td>\n",
       "      <td>0</td>\n",
       "      <td>2</td>\n",
       "      <td>347742</td>\n",
       "      <td>11.1333</td>\n",
       "      <td>0</td>\n",
       "      <td>-0.475199</td>\n",
       "      <td>...</td>\n",
       "      <td>1</td>\n",
       "      <td>0</td>\n",
       "      <td>0</td>\n",
       "      <td>1</td>\n",
       "      <td>1</td>\n",
       "      <td>0</td>\n",
       "      <td>0</td>\n",
       "      <td>0</td>\n",
       "      <td>1</td>\n",
       "      <td>0</td>\n",
       "    </tr>\n",
       "    <tr>\n",
       "      <th>9</th>\n",
       "      <td>10</td>\n",
       "      <td>1</td>\n",
       "      <td>Nasser, Mrs. Nicholas (Adele Achem)</td>\n",
       "      <td>14.0</td>\n",
       "      <td>1</td>\n",
       "      <td>0</td>\n",
       "      <td>237736</td>\n",
       "      <td>30.0708</td>\n",
       "      <td>0</td>\n",
       "      <td>0.431350</td>\n",
       "      <td>...</td>\n",
       "      <td>0</td>\n",
       "      <td>1</td>\n",
       "      <td>0</td>\n",
       "      <td>0</td>\n",
       "      <td>1</td>\n",
       "      <td>0</td>\n",
       "      <td>0</td>\n",
       "      <td>0</td>\n",
       "      <td>1</td>\n",
       "      <td>0</td>\n",
       "    </tr>\n",
       "  </tbody>\n",
       "</table>\n",
       "<p>10 rows × 25 columns</p>\n",
       "</div>"
      ],
      "text/plain": [
       "   PassengerId  Survived                                               Name  \\\n",
       "0            1         0                            Braund, Mr. Owen Harris   \n",
       "1            2         1  Cumings, Mrs. John Bradley (Florence Briggs Th...   \n",
       "2            3         1                             Heikkinen, Miss. Laina   \n",
       "3            4         1       Futrelle, Mrs. Jacques Heath (Lily May Peel)   \n",
       "4            5         0                           Allen, Mr. William Henry   \n",
       "5            6         0                                   Moran, Mr. James   \n",
       "6            7         0                            McCarthy, Mr. Timothy J   \n",
       "7            8         0                     Palsson, Master. Gosta Leonard   \n",
       "8            9         1  Johnson, Mrs. Oscar W (Elisabeth Vilhelmina Berg)   \n",
       "9           10         1                Nasser, Mrs. Nicholas (Adele Achem)   \n",
       "\n",
       "    Age  SibSp  Parch            Ticket     Fare  IsAlone  SibSp_Norm  ...  \\\n",
       "0  22.0      1      0         A/5 21171   7.2500        0    0.431350  ...   \n",
       "1  38.0      1      0          PC 17599  71.2833        0    0.431350  ...   \n",
       "2  26.0      0      0  STON/O2. 3101282   7.9250        1   -0.475199  ...   \n",
       "3  35.0      1      0            113803  53.1000        0    0.431350  ...   \n",
       "4  35.0      0      0            373450   8.0500        1   -0.475199  ...   \n",
       "5  27.0      0      0            330877   8.4583        1   -0.475199  ...   \n",
       "6  54.0      0      0             17463  51.8625        1   -0.475199  ...   \n",
       "7   2.0      3      1            349909  21.0750        0    2.244449  ...   \n",
       "8  27.0      0      2            347742  11.1333        0   -0.475199  ...   \n",
       "9  14.0      1      0            237736  30.0708        0    0.431350  ...   \n",
       "\n",
       "   Pclass_3  Embarked_C  Embarked_Q  Embarked_S  Title_Miss  Title_Mr  \\\n",
       "0         1           0           0           1           0         1   \n",
       "1         0           1           0           0           1         0   \n",
       "2         1           0           0           1           1         0   \n",
       "3         0           0           0           1           1         0   \n",
       "4         1           0           0           1           0         1   \n",
       "5         1           0           1           0           0         1   \n",
       "6         0           0           0           1           0         1   \n",
       "7         1           0           0           1           0         1   \n",
       "8         1           0           0           1           1         0   \n",
       "9         0           1           0           0           1         0   \n",
       "\n",
       "   Title_Mrs  Title_Rare  IsAlone_cat_False  IsAlone_cat_True  \n",
       "0          0           0                  1                 0  \n",
       "1          0           0                  1                 0  \n",
       "2          0           0                  0                 1  \n",
       "3          0           0                  1                 0  \n",
       "4          0           0                  0                 1  \n",
       "5          0           0                  0                 1  \n",
       "6          0           0                  0                 1  \n",
       "7          0           0                  1                 0  \n",
       "8          0           0                  1                 0  \n",
       "9          0           0                  1                 0  \n",
       "\n",
       "[10 rows x 25 columns]"
      ]
     },
     "execution_count": 11,
     "metadata": {},
     "output_type": "execute_result"
    }
   ],
   "source": [
    "#Creación de variables dummy\n",
    "titanicDF = pd.get_dummies(titanicDF, columns = [\"Sex\"], drop_first = True)\n",
    "titanicDF = pd.get_dummies(titanicDF, columns = [\"Pclass\",\"Embarked\",\"Title\",\"IsAlone_cat\"])\n",
    "\n",
    "titanicDF.head(10)"
   ]
  },
  {
   "cell_type": "markdown",
   "metadata": {
    "id": "ZHkj1nyyNHKF"
   },
   "source": [
    "**B.ALGORTIMOS**"
   ]
  },
  {
   "cell_type": "markdown",
   "metadata": {
    "id": "1whTPqR-tHnl"
   },
   "source": [
    "*Usaremos los algoritmos de Regresión logística, RandomForest, KNN, Decision Tree y Redes Neuronales*"
   ]
  },
  {
   "cell_type": "code",
   "execution_count": 12,
   "metadata": {
    "id": "ieBXchFTKJj2"
   },
   "outputs": [],
   "source": [
    "def modelo_RegresionLogistica( X_train, y_train, X_test, y_test):\n",
    "  logistic_model = LogisticRegression(C=1e5, solver='lbfgs', max_iter=1000)\n",
    "  logistic_model = logistic_model.fit(X_train, y_train)\n",
    "  predictions = logistic_model.predict(X_test)\n",
    "  resultado = logistic_model.score(X_test,y_test)\n",
    "  modelo_str = 'Regresion Logistica'\n",
    "  modelo_fit =logistic_model\n",
    "  \n",
    "  print(\"Modelo = LogisticRegression Resultado =\",resultado)\n",
    "  print(classification_report(y_test,predictions))\n",
    "  print(f'Confusion Matrix {plot_confusion_matrix(modelo_fit, X_test, y_test)}')  \n",
    "\n",
    "def modelo_DecisionTree( X_train, y_train, X_test, y_test,p_max_depth):\n",
    "  clf = tree.DecisionTreeClassifier(max_depth=p_max_depth)\n",
    "  clf = clf.fit(X_train, y_train)\n",
    "  predicciones = clf.predict(X_test)\n",
    "  resultado = sqrt(mean((predicciones - y_test)**2))\n",
    "  modelo_fit = clf\n",
    "  \n",
    "  print(\"Modelo = DecisionTree Resultado =\",resultado)\n",
    "  print(classification_report(y_test,predicciones))\n",
    "  print(f'Confusion Matrix {plot_confusion_matrix(modelo_fit, X_test, y_test)}')  \n",
    "\n",
    "def modelo_RandomForest( X_trainrf, y_trainrf, X_testrf, y_testrf, p_n_estimators, p_min_samples_leaf, p_random_state ):\n",
    "  results_rf = []\n",
    "  rf = RandomForestClassifier(n_estimators=p_n_estimators, min_samples_leaf = p_min_samples_leaf, random_state=p_random_state)\n",
    "  rf.fit(X_trainrf, y_trainrf)\n",
    "  #modelo_fit =rf.fit(X_trainrf, y_trainrf)\n",
    "  predictions = rf.predict(X_testrf)\n",
    "  result = np.sqrt(np.mean((y_testrf - predictions)**2))\n",
    "  results_rf.append(result) \n",
    "\n",
    "  print(\"Modelo = RandomForestClassifier Resultado = \",np.mean(results_rf))\n",
    "  print(classification_report(y_testrf,predictions))\n",
    "  print(f'Confusion Matrix {plot_confusion_matrix(rf.fit(X_trainrf, y_trainrf), X_testrf, y_testrf)}')  \n",
    "\n",
    " \n",
    "def modelo_KNeighborsClassifier (X_train,y_train, X_test, y_test, p_n_neighbors):\n",
    "  results_knn = []\n",
    "  knn_model = KNeighborsClassifier(n_neighbors=p_n_neighbors)\n",
    "  knn_model = knn_model.fit(X_train, y_train)\n",
    "  predictions = knn_model.predict(X_test)\n",
    "  resultado = np.sqrt(np.mean((y_test - predictions)**2))\n",
    "  result = np.sqrt(np.mean((y_test - predictions)**2))\n",
    "  \n",
    "  print(\"Modelo = KNeighborsClassifier Resultado = \",result)\n",
    "  print(classification_report(y_test,predictions))\n",
    "  print(f'Confusion Matrix {plot_confusion_matrix(knn_model, X_test, y_test)}')  \n",
    "  \n",
    "\n",
    "  "
   ]
  },
  {
   "cell_type": "markdown",
   "metadata": {
    "id": "1mjut_YCPASz"
   },
   "source": [
    "B.1. RandomForestClassifier"
   ]
  },
  {
   "cell_type": "code",
   "execution_count": 13,
   "metadata": {
    "colab": {
     "base_uri": "https://localhost:8080/",
     "height": 1000
    },
    "id": "EzRMQfr7KJj3",
    "outputId": "d2b19a89-cdf5-48ec-c7df-45c7011a157a"
   },
   "outputs": [
    {
     "name": "stdout",
     "output_type": "stream",
     "text": [
      "Modelo = RandomForestClassifier Resultado =  0.41053541362798\n",
      "              precision    recall  f1-score   support\n",
      "\n",
      "           0       0.81      0.94      0.87       108\n",
      "           1       0.88      0.66      0.75        70\n",
      "\n",
      "    accuracy                           0.83       178\n",
      "   macro avg       0.85      0.80      0.81       178\n",
      "weighted avg       0.84      0.83      0.83       178\n",
      "\n",
      "Confusion Matrix <sklearn.metrics._plot.confusion_matrix.ConfusionMatrixDisplay object at 0x00000159ADFEEB80>\n",
      "Modelo = RandomForestClassifier Resultado =  0.44971901339751685\n",
      "              precision    recall  f1-score   support\n",
      "\n",
      "           0       0.81      0.91      0.85       116\n",
      "           1       0.77      0.60      0.67        62\n",
      "\n",
      "    accuracy                           0.80       178\n",
      "   macro avg       0.79      0.75      0.76       178\n",
      "weighted avg       0.79      0.80      0.79       178\n",
      "\n",
      "Confusion Matrix <sklearn.metrics._plot.confusion_matrix.ConfusionMatrixDisplay object at 0x00000159ADFF3070>\n",
      "Modelo = RandomForestClassifier Resultado =  0.423999152002544\n",
      "              precision    recall  f1-score   support\n",
      "\n",
      "           0       0.80      0.92      0.86       105\n",
      "           1       0.86      0.67      0.75        73\n",
      "\n",
      "    accuracy                           0.82       178\n",
      "   macro avg       0.83      0.80      0.81       178\n",
      "weighted avg       0.83      0.82      0.82       178\n",
      "\n",
      "Confusion Matrix <sklearn.metrics._plot.confusion_matrix.ConfusionMatrixDisplay object at 0x00000159ADFF3430>\n"
     ]
    },
    {
     "data": {
      "image/png": "[encoded data removed]",
      "text/plain": [
       "<Figure size 432x288 with 2 Axes>"
      ]
     },
     "metadata": {
      "needs_background": "light"
     },
     "output_type": "display_data"
    },
    {
     "data": {
      "image/png": "[encoded data removed]",
      "text/plain": [
       "<Figure size 432x288 with 2 Axes>"
      ]
     },
     "metadata": {
      "needs_background": "light"
     },
     "output_type": "display_data"
    },
    {
     "data": {
      "image/png": "[encoded data removed]",
      "text/plain": [
       "<Figure size 432x288 with 2 Axes>"
      ]
     },
     "metadata": {
      "needs_background": "light"
     },
     "output_type": "display_data"
    }
   ],
   "source": [
    "# RandomForestClassifier(RF) agregando titles Is Alone Matriz de confusion y classification report\n",
    "\n",
    "X = titanicDF[['Age','SibSp','Parch', 'Fare','Sex_male','Pclass_1','Pclass_2','Pclass_3','Embarked_C','Embarked_Q','Embarked_S','Title_Miss','Title_Mr','Title_Mrs','Title_Rare','IsAlone']]\n",
    "y = titanicDF['Survived']\n",
    "X_trainrf, X_testrf, y_trainrf, y_testrf = train_test_split(X, y, test_size=0.2)\n",
    "\n",
    "modelo_RandomForest( X_trainrf, y_trainrf, X_testrf, y_testrf,  50, 7, 123 )\n",
    "\n",
    "# RandomForestClassifier(RF) agregando titles Is Alone Matriz de confusion y classification report\n",
    "#con diferentes parametros\n",
    "X = titanicDF[['Age','SibSp','Parch', 'Fare','Sex_male','Pclass_1','Pclass_2','Pclass_3','Embarked_C','Embarked_Q','Embarked_S','Title_Miss','Title_Mr','Title_Mrs','Title_Rare','IsAlone']]\n",
    "y = titanicDF['Survived']\n",
    "X_trainrf, X_testrf, y_trainrf, y_testrf = train_test_split(X, y, test_size=0.2)\n",
    "\n",
    "modelo_RandomForest( X_trainrf, y_trainrf, X_testrf, y_testrf,  100, 10, 200 )\n",
    "\n",
    "# RandomForestClassifier(RF) agregando  IsAlone, Matriz de confusion y classification report\n",
    "#con diferentes parametros\n",
    "X = titanicDF[['Age','SibSp','Parch', 'Fare','Sex_male','Pclass_1','Pclass_2','Pclass_3','Embarked_C','Embarked_Q','Embarked_S','Title_Miss','IsAlone']]\n",
    "y = titanicDF['Survived']\n",
    "X_trainrf, X_testrf, y_trainrf, y_testrf = train_test_split(X, y, test_size=0.2)\n",
    "\n",
    "modelo_RandomForest( X_trainrf, y_trainrf, X_testrf, y_testrf,  100, 10, 200 )\n",
    "\n"
   ]
  },
  {
   "cell_type": "markdown",
   "metadata": {
    "id": "5PcW3YVkWAcF"
   },
   "source": [
    "B.2.KNN"
   ]
  },
  {
   "cell_type": "code",
   "execution_count": 14,
   "metadata": {
    "colab": {
     "base_uri": "https://localhost:8080/",
     "height": 1000
    },
    "id": "FQQaXmGfKJj4",
    "outputId": "3391677a-2c37-4256-8c85-1f0d2eba2825"
   },
   "outputs": [
    {
     "name": "stdout",
     "output_type": "stream",
     "text": [
      "Modelo = KNeighborsClassifier Resultado =  0.43057317430021846\n",
      "              precision    recall  f1-score   support\n",
      "\n",
      "           0       0.84      0.86      0.85       107\n",
      "           1       0.78      0.75      0.76        71\n",
      "\n",
      "    accuracy                           0.81       178\n",
      "   macro avg       0.81      0.80      0.81       178\n",
      "weighted avg       0.81      0.81      0.81       178\n",
      "\n",
      "Confusion Matrix <sklearn.metrics._plot.confusion_matrix.ConfusionMatrixDisplay object at 0x00000159ADF84970>\n",
      "Modelo = KNeighborsClassifier Resultado =  0.40363516734125976\n",
      "              precision    recall  f1-score   support\n",
      "\n",
      "           0       0.84      0.90      0.87       107\n",
      "           1       0.83      0.75      0.79        71\n",
      "\n",
      "    accuracy                           0.84       178\n",
      "   macro avg       0.84      0.82      0.83       178\n",
      "weighted avg       0.84      0.84      0.84       178\n",
      "\n",
      "Confusion Matrix <sklearn.metrics._plot.confusion_matrix.ConfusionMatrixDisplay object at 0x00000159ADF84970>\n",
      "Modelo = KNeighborsClassifier Resultado =  0.43057317430021846\n",
      "              precision    recall  f1-score   support\n",
      "\n",
      "           0       0.80      0.93      0.86       107\n",
      "           1       0.85      0.65      0.74        71\n",
      "\n",
      "    accuracy                           0.81       178\n",
      "   macro avg       0.83      0.79      0.80       178\n",
      "weighted avg       0.82      0.81      0.81       178\n",
      "\n",
      "Confusion Matrix <sklearn.metrics._plot.confusion_matrix.ConfusionMatrixDisplay object at 0x00000159AE028AC0>\n"
     ]
    },
    {
     "data": {
      "image/png": "[encoded data removed]",
      "text/plain": [
       "<Figure size 432x288 with 2 Axes>"
      ]
     },
     "metadata": {
      "needs_background": "light"
     },
     "output_type": "display_data"
    },
    {
     "data": {
      "image/png": "[encoded data removed]",
      "text/plain": [
       "<Figure size 432x288 with 2 Axes>"
      ]
     },
     "metadata": {
      "needs_background": "light"
     },
     "output_type": "display_data"
    },
    {
     "data": {
      "image/png": "[encoded data removed]",
      "text/plain": [
       "<Figure size 432x288 with 2 Axes>"
      ]
     },
     "metadata": {
      "needs_background": "light"
     },
     "output_type": "display_data"
    }
   ],
   "source": [
    "#Variaciones del model KNN\n",
    "\n",
    "#KNN con datos estandarizados\n",
    "#agregando la funcion Classification report y confusion matrix\n",
    "#estandarizamos o normalizamos la informacion del DF\n",
    "scaler = StandardScaler()\n",
    "scaler.fit(titanicDF.drop(['Survived','Name','Ticket'],axis=1))\n",
    "scaled_features = scaler.transform(titanicDF.drop(['Survived','Name','Ticket'],axis=1))\n",
    "df_feat = pd.DataFrame(scaled_features, columns=['PassengerId', 'Age', 'SibSp', 'Parch', 'Fare',\n",
    "       'Sex_male', 'Pclass_1', 'Pclass_2', 'Pclass_3', 'Embarked_C',\n",
    "       'Embarked_Q', 'Embarked_S', 'Title_Miss', 'Title_Mr', 'Title_Mrs',\n",
    "       'Title_Rare', 'IsAlone','IsAlone_cat_True','IsAlone_cat_False','SibSp_Norm','Fare_Norm','Parch_Norm'])\n",
    "#una vez estandarizado generamos las nuevas variables del modelo.\n",
    "X= df_feat\n",
    "y=titanicDF['Survived']\n",
    "\n",
    "X_trainkn, X_testkn, y_trainkn, y_testkn = train_test_split(X, y, test_size=0.2, random_state=101)\n",
    "# Corremos el modelo nuevamente\n",
    "modelo_KNeighborsClassifier (X_trainkn,y_trainkn, X_testkn, y_testkn, 5)\n",
    "\n",
    "\n",
    "#KNN con datos estandarizados sin Title, IsAlone\n",
    "#agregando la funcion Classification report y confusion matrix\n",
    "X= df_feat[['PassengerId', 'Age', 'SibSp', 'Parch', 'Fare','Sex_male', 'Pclass_1', 'Pclass_2', 'Pclass_3', 'Embarked_C',\n",
    "       'Embarked_Q', 'Embarked_S']]\n",
    "y=titanicDF['Survived']\n",
    "X_trainkn, X_testkn, y_trainkn, y_testkn = train_test_split(X, y, test_size=0.2, random_state=101)\n",
    "# Corremos el modle nuevamente\n",
    "modelo_KNeighborsClassifier (X_trainkn,y_trainkn, X_testkn, y_testkn, 5)\n",
    "\n",
    "\n",
    "#KNN con datos estandarizados sin Title, IsAlon y con mayor número de veicnos.\n",
    "#agregando la funcion Classification report y confusion matrix\n",
    "X= df_feat[['PassengerId', 'Age', 'SibSp', 'Parch', 'Fare', 'Sex_male', 'Pclass_1', 'Pclass_2', 'Pclass_3', 'Embarked_C',\n",
    "       'Embarked_Q', 'Embarked_S']]\n",
    "y=titanicDF['Survived']\n",
    "X_trainkn, X_testkn, y_trainkn, y_testkn = train_test_split(X, y, test_size=0.2, random_state=101)\n",
    "# Corremos el modle nuevamente\n",
    "modelo_KNeighborsClassifier (X_trainkn,y_trainkn, X_testkn, y_testkn, 9)\n"
   ]
  },
  {
   "cell_type": "markdown",
   "metadata": {
    "id": "1gvHQ93QWF54"
   },
   "source": [
    "B.3.Regresión Logísitca"
   ]
  },
  {
   "cell_type": "code",
   "execution_count": 15,
   "metadata": {
    "colab": {
     "base_uri": "https://localhost:8080/",
     "height": 1000
    },
    "id": "KMCFjbCaKJj6",
    "outputId": "e9b74ac8-f6a0-4da9-ea6c-e3b18804086f"
   },
   "outputs": [
    {
     "name": "stdout",
     "output_type": "stream",
     "text": [
      "Modelo = LogisticRegression Resultado = 0.797752808988764\n",
      "              precision    recall  f1-score   support\n",
      "\n",
      "           0       0.81      0.89      0.85       112\n",
      "           1       0.78      0.64      0.70        66\n",
      "\n",
      "    accuracy                           0.80       178\n",
      "   macro avg       0.79      0.76      0.77       178\n",
      "weighted avg       0.80      0.80      0.79       178\n",
      "\n",
      "Confusion Matrix <sklearn.metrics._plot.confusion_matrix.ConfusionMatrixDisplay object at 0x00000159ADF01A60>\n",
      "Modelo = LogisticRegression Resultado = 0.7752808988764045\n",
      "              precision    recall  f1-score   support\n",
      "\n",
      "           0       0.78      0.88      0.82       106\n",
      "           1       0.78      0.62      0.69        72\n",
      "\n",
      "    accuracy                           0.78       178\n",
      "   macro avg       0.78      0.75      0.76       178\n",
      "weighted avg       0.78      0.78      0.77       178\n",
      "\n",
      "Confusion Matrix <sklearn.metrics._plot.confusion_matrix.ConfusionMatrixDisplay object at 0x00000159AE221FD0>\n",
      "Modelo = LogisticRegression Resultado = 0.8314606741573034\n",
      "              precision    recall  f1-score   support\n",
      "\n",
      "           0       0.84      0.89      0.86       107\n",
      "           1       0.82      0.75      0.78        71\n",
      "\n",
      "    accuracy                           0.83       178\n",
      "   macro avg       0.83      0.82      0.82       178\n",
      "weighted avg       0.83      0.83      0.83       178\n",
      "\n",
      "Confusion Matrix <sklearn.metrics._plot.confusion_matrix.ConfusionMatrixDisplay object at 0x00000159AE296EE0>\n"
     ]
    },
    {
     "data": {
      "image/png": "[encoded data removed]",
      "text/plain": [
       "<Figure size 432x288 with 2 Axes>"
      ]
     },
     "metadata": {
      "needs_background": "light"
     },
     "output_type": "display_data"
    },
    {
     "data": {
      "image/png": "[encoded data removed]",
      "text/plain": [
       "<Figure size 432x288 with 2 Axes>"
      ]
     },
     "metadata": {
      "needs_background": "light"
     },
     "output_type": "display_data"
    },
    {
     "data": {
      "image/png": "[encoded data removed]",
      "text/plain": [
       "<Figure size 432x288 with 2 Axes>"
      ]
     },
     "metadata": {
      "needs_background": "light"
     },
     "output_type": "display_data"
    }
   ],
   "source": [
    "#Regresión Logistica\n",
    "\n",
    "# 1: con las variables base \n",
    "y_RL = titanicDF['Survived']\n",
    "X_RL_1 = titanicDF[['Age','SibSp','Parch', 'Fare','Sex_male','Pclass_1','Pclass_2','Pclass_3','Embarked_C','Embarked_Q','Embarked_S']]\n",
    "X_train, X_test, y_train, y_test = train_test_split(X_RL_1, y_RL, test_size=0.2)\n",
    "\n",
    "modelo_RegresionLogistica( X_train, y_train, X_test, y_test)\n",
    "\n",
    "# 2: con las variables base + titulo + isAlone \n",
    "X_RL_2 = titanicDF[['Age','SibSp','Parch', 'Fare','Sex_male','Pclass_1','Pclass_2','Pclass_3','Embarked_C','Embarked_Q','Embarked_S','Title_Miss', \\\n",
    "                    'Title_Mr', 'Title_Mrs', 'Title_Rare', 'IsAlone_cat_True']]\n",
    "X_train, X_test, y_train, y_test = train_test_split(X_RL_2, y_RL, test_size=0.2)\n",
    "modelo_RegresionLogistica( X_train, y_train, X_test, y_test, )\n",
    "\n",
    "# 3: con las variables base + titulo + isAlone \n",
    "# normalizando la tarifa,sib y parch y volviendo variables y usando is_alone como dummy\n",
    "X_RL_2 = titanicDF[['Age','SibSp_Norm','Parch_Norm', 'Fare_Norm','Sex_male','Pclass_1','Pclass_2','Pclass_3','Embarked_C','Embarked_Q','Embarked_S','Title_Miss', \\\n",
    "                    'Title_Mr', 'Title_Mrs', 'Title_Rare', 'IsAlone_cat_True']]\n",
    "X_train, X_test, y_train, y_test = train_test_split(X_RL_2, y_RL, test_size=0.2)\n",
    "modelo_RegresionLogistica( X_train, y_train, X_test, y_test)\n",
    "\n"
   ]
  },
  {
   "cell_type": "markdown",
   "metadata": {
    "id": "VYchhX_pWTbJ"
   },
   "source": [
    "B.4.DecisionTree"
   ]
  },
  {
   "cell_type": "code",
   "execution_count": 16,
   "metadata": {
    "colab": {
     "base_uri": "https://localhost:8080/",
     "height": 1000
    },
    "id": "BH7p7zYGWQox",
    "outputId": "d131158e-8daa-42b6-95ca-9e6238e873b0"
   },
   "outputs": [
    {
     "name": "stdout",
     "output_type": "stream",
     "text": [
      "Modelo = DecisionTree Resultado = 0.4370483222197017\n",
      "              precision    recall  f1-score   support\n",
      "\n",
      "           0       0.85      0.84      0.84       110\n",
      "           1       0.74      0.76      0.75        68\n",
      "\n",
      "    accuracy                           0.81       178\n",
      "   macro avg       0.80      0.80      0.80       178\n",
      "weighted avg       0.81      0.81      0.81       178\n",
      "\n",
      "Confusion Matrix <sklearn.metrics._plot.confusion_matrix.ConfusionMatrixDisplay object at 0x00000159AE2AB640>\n",
      "Modelo = DecisionTree Resultado = 0.4434289272060925\n",
      "              precision    recall  f1-score   support\n",
      "\n",
      "           0       0.84      0.84      0.84       110\n",
      "           1       0.74      0.75      0.74        68\n",
      "\n",
      "    accuracy                           0.80       178\n",
      "   macro avg       0.79      0.79      0.79       178\n",
      "weighted avg       0.80      0.80      0.80       178\n",
      "\n",
      "Confusion Matrix <sklearn.metrics._plot.confusion_matrix.ConfusionMatrixDisplay object at 0x00000159AE2AB640>\n",
      "Modelo = DecisionTree Resultado = 0.46808238975153255\n",
      "              precision    recall  f1-score   support\n",
      "\n",
      "           0       0.83      0.83      0.83       114\n",
      "           1       0.70      0.69      0.69        64\n",
      "\n",
      "    accuracy                           0.78       178\n",
      "   macro avg       0.76      0.76      0.76       178\n",
      "weighted avg       0.78      0.78      0.78       178\n",
      "\n",
      "Confusion Matrix <sklearn.metrics._plot.confusion_matrix.ConfusionMatrixDisplay object at 0x00000159AE44B940>\n",
      "Modelo = DecisionTree Resultado = 0.45592232730951643\n",
      "              precision    recall  f1-score   support\n",
      "\n",
      "           0       0.81      0.88      0.84       114\n",
      "           1       0.75      0.64      0.69        64\n",
      "\n",
      "    accuracy                           0.79       178\n",
      "   macro avg       0.78      0.76      0.77       178\n",
      "weighted avg       0.79      0.79      0.79       178\n",
      "\n",
      "Confusion Matrix <sklearn.metrics._plot.confusion_matrix.ConfusionMatrixDisplay object at 0x00000159AE221FD0>\n",
      "Modelo = DecisionTree Resultado = 0.40363516734125976\n",
      "              precision    recall  f1-score   support\n",
      "\n",
      "           0       0.87      0.89      0.88       119\n",
      "           1       0.77      0.73      0.75        59\n",
      "\n",
      "    accuracy                           0.84       178\n",
      "   macro avg       0.82      0.81      0.81       178\n",
      "weighted avg       0.84      0.84      0.84       178\n",
      "\n",
      "Confusion Matrix <sklearn.metrics._plot.confusion_matrix.ConfusionMatrixDisplay object at 0x00000159AE390250>\n",
      "Modelo = DecisionTree Resultado = 0.41053541362798\n",
      "              precision    recall  f1-score   support\n",
      "\n",
      "           0       0.87      0.87      0.87       119\n",
      "           1       0.75      0.75      0.75        59\n",
      "\n",
      "    accuracy                           0.83       178\n",
      "   macro avg       0.81      0.81      0.81       178\n",
      "weighted avg       0.83      0.83      0.83       178\n",
      "\n",
      "Confusion Matrix <sklearn.metrics._plot.confusion_matrix.ConfusionMatrixDisplay object at 0x00000159AE4E68B0>\n"
     ]
    },
    {
     "data": {
      "image/png": "[encoded data removed]",
      "text/plain": [
       "<Figure size 432x288 with 2 Axes>"
      ]
     },
     "metadata": {
      "needs_background": "light"
     },
     "output_type": "display_data"
    },
    {
     "data": {
      "image/png": "[encoded data removed]",
      "text/plain": [
       "<Figure size 432x288 with 2 Axes>"
      ]
     },
     "metadata": {
      "needs_background": "light"
     },
     "output_type": "display_data"
    },
    {
     "data": {
      "image/png": "[encoded data removed]",
      "text/plain": [
       "<Figure size 432x288 with 2 Axes>"
      ]
     },
     "metadata": {
      "needs_background": "light"
     },
     "output_type": "display_data"
    },
    {
     "data": {
      "image/png": "[encoded data removed]",
      "text/plain": [
       "<Figure size 432x288 with 2 Axes>"
      ]
     },
     "metadata": {
      "needs_background": "light"
     },
     "output_type": "display_data"
    },
    {
     "data": {
      "image/png": "[encoded data removed]",
      "text/plain": [
       "<Figure size 432x288 with 2 Axes>"
      ]
     },
     "metadata": {
      "needs_background": "light"
     },
     "output_type": "display_data"
    },
    {
     "data": {
      "image/png": "[encoded data removed]",
      "text/plain": [
       "<Figure size 432x288 with 2 Axes>"
      ]
     },
     "metadata": {
      "needs_background": "light"
     },
     "output_type": "display_data"
    }
   ],
   "source": [
    "\n",
    "# 1: con las variables base \n",
    "y_DT = titanicDF['Survived']\n",
    "X_DT = titanicDF[['Age','SibSp','Parch', 'Fare','Sex_male','Pclass_1','Pclass_2','Pclass_3','Embarked_C','Embarked_Q','Embarked_S']]\n",
    "X_train, X_test, y_train, y_test = train_test_split(X_DT, y_DT, test_size=0.2)\n",
    "\n",
    "modelo_DecisionTree( X_train, y_train, X_test, y_test, 3)\n",
    "modelo_DecisionTree( X_train, y_train, X_test, y_test, 5)\n",
    "\n",
    "# 2: con las variables base + titulo + isAlone \n",
    "X_DT = titanicDF[['Age','SibSp','Parch', 'Fare','Sex_male','Pclass_1','Pclass_2','Pclass_3','Embarked_C','Embarked_Q','Embarked_S','Title_Miss', \\\n",
    "                    'Title_Mr', 'Title_Mrs', 'Title_Rare', 'IsAlone_cat_True']]\n",
    "X_train, X_test, y_train, y_test = train_test_split(X_DT, y_DT, test_size=0.2)\n",
    "modelo_DecisionTree( X_train, y_train, X_test, y_test, 3)\n",
    "modelo_DecisionTree( X_train, y_train, X_test, y_test, 5)\n",
    "\n",
    "scaler = preprocessing.StandardScaler()\n",
    "titanicDF[['SibSp','Fare']] = scaler.fit_transform(titanicDF[['SibSp','Fare']])\n",
    "scaler = preprocessing.Normalizer(norm='l2', copy=True)\n",
    "\n",
    "# 3: con las variables base + titulo + isAlone \n",
    "# normalizando la tarifa,sib y parch y volviendo variables y usando is_alone como dummy\n",
    "X_DT = titanicDF[['Age','SibSp_Norm','Parch_Norm', 'Fare_Norm','Sex_male','Pclass_1','Pclass_2','Pclass_3','Embarked_C','Embarked_Q','Embarked_S','Title_Miss', \\\n",
    "                    'Title_Mr', 'Title_Mrs', 'Title_Rare', 'IsAlone_cat_True']]\n",
    "X_train, X_test, y_train, y_test = train_test_split(X_DT, y_DT, test_size=0.2)\n",
    "\n",
    "modelo_DecisionTree( X_train, y_train, X_test, y_test, 3)\n",
    "modelo_DecisionTree( X_train, y_train, X_test, y_test, 5)\n",
    "\n"
   ]
  },
  {
   "cell_type": "markdown",
   "metadata": {
    "id": "yKv3nTeJWtHf"
   },
   "source": [
    "B.5 Redes Neuronales"
   ]
  },
  {
   "cell_type": "code",
   "execution_count": 17,
   "metadata": {
    "colab": {
     "base_uri": "https://localhost:8080/"
    },
    "id": "ivRkPxW-KJkA",
    "outputId": "58c2a5a1-ceae-4cf7-80d0-30e6c2fb4325"
   },
   "outputs": [
    {
     "name": "stdout",
     "output_type": "stream",
     "text": [
      "Model: \"model\"\n",
      "_________________________________________________________________\n",
      "Layer (type)                 Output Shape              Param #   \n",
      "=================================================================\n",
      "input_1 (InputLayer)         [(None, 16)]              0         \n",
      "_________________________________________________________________\n",
      "dense (Dense)                (None, 16)                272       \n",
      "_________________________________________________________________\n",
      "dense_1 (Dense)              (None, 16)                272       \n",
      "_________________________________________________________________\n",
      "dense_2 (Dense)              (None, 1)                 17        \n",
      "=================================================================\n",
      "Total params: 561\n",
      "Trainable params: 561\n",
      "Non-trainable params: 0\n",
      "_________________________________________________________________\n",
      "Epoch 1/16\n",
      "23/23 [==============================] - 1s 43ms/step - loss: 1.4766 - accuracy: 0.5998 - val_loss: 0.6820 - val_accuracy: 0.6742\n",
      "Epoch 2/16\n",
      "23/23 [==============================] - 0s 2ms/step - loss: 0.7699 - accuracy: 0.4706 - val_loss: 0.6284 - val_accuracy: 0.6742\n",
      "Epoch 3/16\n",
      "23/23 [==============================] - 0s 2ms/step - loss: 0.7079 - accuracy: 0.5800 - val_loss: 0.6012 - val_accuracy: 0.7079\n",
      "Epoch 4/16\n",
      "23/23 [==============================] - 0s 2ms/step - loss: 0.6274 - accuracy: 0.6613 - val_loss: 0.5823 - val_accuracy: 0.7584\n",
      "Epoch 5/16\n",
      "23/23 [==============================] - 0s 2ms/step - loss: 0.5946 - accuracy: 0.7243 - val_loss: 0.5409 - val_accuracy: 0.8146\n",
      "Epoch 6/16\n",
      "23/23 [==============================] - 0s 2ms/step - loss: 0.5609 - accuracy: 0.7669 - val_loss: 0.5020 - val_accuracy: 0.7809\n",
      "Epoch 7/16\n",
      "23/23 [==============================] - 0s 2ms/step - loss: 0.5261 - accuracy: 0.7971 - val_loss: 0.4950 - val_accuracy: 0.8146\n",
      "Epoch 8/16\n",
      "23/23 [==============================] - 0s 2ms/step - loss: 0.5115 - accuracy: 0.7911 - val_loss: 0.4658 - val_accuracy: 0.8146\n",
      "Epoch 9/16\n",
      "23/23 [==============================] - 0s 2ms/step - loss: 0.4952 - accuracy: 0.7877 - val_loss: 0.4512 - val_accuracy: 0.8146\n",
      "Epoch 10/16\n",
      "23/23 [==============================] - 0s 2ms/step - loss: 0.5126 - accuracy: 0.7860 - val_loss: 0.4438 - val_accuracy: 0.8090\n",
      "Epoch 11/16\n",
      "23/23 [==============================] - 0s 2ms/step - loss: 0.4666 - accuracy: 0.8224 - val_loss: 0.4364 - val_accuracy: 0.8202\n",
      "Epoch 12/16\n",
      "23/23 [==============================] - 0s 2ms/step - loss: 0.4621 - accuracy: 0.8053 - val_loss: 0.4374 - val_accuracy: 0.8034\n",
      "Epoch 13/16\n",
      "23/23 [==============================] - 0s 2ms/step - loss: 0.4590 - accuracy: 0.8088 - val_loss: 0.4170 - val_accuracy: 0.8090\n",
      "Epoch 14/16\n",
      "23/23 [==============================] - 0s 2ms/step - loss: 0.4415 - accuracy: 0.8270 - val_loss: 0.4125 - val_accuracy: 0.8146\n",
      "Epoch 15/16\n",
      "23/23 [==============================] - 0s 2ms/step - loss: 0.4745 - accuracy: 0.8020 - val_loss: 0.4059 - val_accuracy: 0.8315\n",
      "Epoch 16/16\n",
      "23/23 [==============================] - 0s 2ms/step - loss: 0.4289 - accuracy: 0.8284 - val_loss: 0.4118 - val_accuracy: 0.8258\n"
     ]
    },
    {
     "data": {
      "text/plain": [
       "<tensorflow.python.keras.callbacks.History at 0x159afa5d700>"
      ]
     },
     "execution_count": 17,
     "metadata": {},
     "output_type": "execute_result"
    }
   ],
   "source": [
    "# Neuronales (RN1)\n",
    "\n",
    "cols_n = X_train.shape[1]\n",
    "\n",
    "inputs = Input(shape=(cols_n))\n",
    "x = layers.Dense(16, activation=\"relu\")(inputs)\n",
    "x = layers.Dense(16, activation=\"relu\")(x)\n",
    "predictions = layers.Dense(1, activation=\"sigmoid\")(x)\n",
    "model = Model(inputs, predictions)\n",
    "model.compile(loss='binary_crossentropy', optimizer=\"adam\", metrics=['accuracy'])\n",
    "model.summary()\n",
    "model.fit(X_train, y_train, epochs=16, validation_data=(X_test, y_test))"
   ]
  },
  {
   "cell_type": "code",
   "execution_count": 18,
   "metadata": {
    "colab": {
     "base_uri": "https://localhost:8080/"
    },
    "id": "khD6KC6QKJkB",
    "outputId": "986f2dc4-0805-4861-cf1b-68ed2c3769e1"
   },
   "outputs": [
    {
     "name": "stdout",
     "output_type": "stream",
     "text": [
      "Model: \"model_1\"\n",
      "_________________________________________________________________\n",
      "Layer (type)                 Output Shape              Param #   \n",
      "=================================================================\n",
      "input_2 (InputLayer)         [(None, 16)]              0         \n",
      "_________________________________________________________________\n",
      "dense_3 (Dense)              (None, 8)                 136       \n",
      "_________________________________________________________________\n",
      "dense_4 (Dense)              (None, 12)                108       \n",
      "_________________________________________________________________\n",
      "dense_5 (Dense)              (None, 12)                156       \n",
      "_________________________________________________________________\n",
      "dense_6 (Dense)              (None, 1)                 13        \n",
      "=================================================================\n",
      "Total params: 413\n",
      "Trainable params: 413\n",
      "Non-trainable params: 0\n",
      "_________________________________________________________________\n",
      "Epoch 1/16\n",
      "23/23 [==============================] - 1s 8ms/step - loss: 0.6802 - accuracy: 0.5827 - val_loss: 0.6400 - val_accuracy: 0.6742\n",
      "Epoch 2/16\n",
      "23/23 [==============================] - 0s 2ms/step - loss: 0.6708 - accuracy: 0.6092 - val_loss: 0.6348 - val_accuracy: 0.6742\n",
      "Epoch 3/16\n",
      "23/23 [==============================] - 0s 2ms/step - loss: 0.6726 - accuracy: 0.5866 - val_loss: 0.6326 - val_accuracy: 0.6742\n",
      "Epoch 4/16\n",
      "23/23 [==============================] - 0s 2ms/step - loss: 0.6537 - accuracy: 0.6129 - val_loss: 0.6264 - val_accuracy: 0.6854\n",
      "Epoch 5/16\n",
      "23/23 [==============================] - 0s 2ms/step - loss: 0.6466 - accuracy: 0.6260 - val_loss: 0.6141 - val_accuracy: 0.6910\n",
      "Epoch 6/16\n",
      "23/23 [==============================] - 0s 2ms/step - loss: 0.6324 - accuracy: 0.6410 - val_loss: 0.6026 - val_accuracy: 0.7191\n",
      "Epoch 7/16\n",
      "23/23 [==============================] - 0s 2ms/step - loss: 0.6258 - accuracy: 0.6589 - val_loss: 0.5710 - val_accuracy: 0.7697\n",
      "Epoch 8/16\n",
      "23/23 [==============================] - 0s 2ms/step - loss: 0.5913 - accuracy: 0.6999 - val_loss: 0.5447 - val_accuracy: 0.8034\n",
      "Epoch 9/16\n",
      "23/23 [==============================] - 0s 2ms/step - loss: 0.5656 - accuracy: 0.7429 - val_loss: 0.5112 - val_accuracy: 0.8146\n",
      "Epoch 10/16\n",
      "23/23 [==============================] - 0s 2ms/step - loss: 0.5322 - accuracy: 0.7924 - val_loss: 0.4824 - val_accuracy: 0.8483\n",
      "Epoch 11/16\n",
      "23/23 [==============================] - 0s 2ms/step - loss: 0.5199 - accuracy: 0.7551 - val_loss: 0.4716 - val_accuracy: 0.8315\n",
      "Epoch 12/16\n",
      "23/23 [==============================] - 0s 2ms/step - loss: 0.5000 - accuracy: 0.8112 - val_loss: 0.4447 - val_accuracy: 0.8652\n",
      "Epoch 13/16\n",
      "23/23 [==============================] - 0s 3ms/step - loss: 0.4901 - accuracy: 0.8124 - val_loss: 0.4321 - val_accuracy: 0.8539\n",
      "Epoch 14/16\n",
      "23/23 [==============================] - 0s 2ms/step - loss: 0.4783 - accuracy: 0.7919 - val_loss: 0.4234 - val_accuracy: 0.8371\n",
      "Epoch 15/16\n",
      "23/23 [==============================] - 0s 2ms/step - loss: 0.4619 - accuracy: 0.8148 - val_loss: 0.4118 - val_accuracy: 0.8371\n",
      "Epoch 16/16\n",
      "23/23 [==============================] - 0s 2ms/step - loss: 0.4319 - accuracy: 0.8325 - val_loss: 0.4083 - val_accuracy: 0.8427\n"
     ]
    },
    {
     "data": {
      "text/plain": [
       "<tensorflow.python.keras.callbacks.History at 0x159ae1d4490>"
      ]
     },
     "execution_count": 18,
     "metadata": {},
     "output_type": "execute_result"
    }
   ],
   "source": [
    "# Neuronales (RN2)\n",
    "\n",
    "cols_n = X_train.shape[1]\n",
    "\n",
    "inputs = Input(shape=(cols_n))\n",
    "x = layers.Dense(8, activation=\"relu\")(inputs)\n",
    "x = layers.Dense(12, activation=\"relu\")(x)\n",
    "x = layers.Dense(12, activation=\"relu\")(x)\n",
    "predictions = layers.Dense(1, activation=\"sigmoid\")(x)\n",
    "model = Model(inputs, predictions)\n",
    "model.compile(loss='binary_crossentropy', optimizer=\"adam\", metrics=['accuracy'])\n",
    "model.summary()\n",
    "model.fit(X_train, y_train, epochs=16, validation_data=(X_test, y_test))"
   ]
  },
  {
   "cell_type": "code",
   "execution_count": 19,
   "metadata": {
    "colab": {
     "base_uri": "https://localhost:8080/"
    },
    "id": "Zqkf-SvSKJkB",
    "outputId": "46cb31b0-c596-4002-a2f5-6265cd4a0fb6"
   },
   "outputs": [
    {
     "name": "stdout",
     "output_type": "stream",
     "text": [
      "Model: \"model_2\"\n",
      "_________________________________________________________________\n",
      "Layer (type)                 Output Shape              Param #   \n",
      "=================================================================\n",
      "input_3 (InputLayer)         [(None, 16)]              0         \n",
      "_________________________________________________________________\n",
      "dense_7 (Dense)              (None, 128)               2176      \n",
      "_________________________________________________________________\n",
      "dense_8 (Dense)              (None, 128)               16512     \n",
      "_________________________________________________________________\n",
      "dense_9 (Dense)              (None, 1)                 129       \n",
      "=================================================================\n",
      "Total params: 18,817\n",
      "Trainable params: 18,817\n",
      "Non-trainable params: 0\n",
      "_________________________________________________________________\n",
      "Epoch 1/16\n",
      "23/23 [==============================] - 1s 8ms/step - loss: 1.0180 - accuracy: 0.5468 - val_loss: 0.5555 - val_accuracy: 0.6910\n",
      "Epoch 2/16\n",
      "23/23 [==============================] - 0s 3ms/step - loss: 0.5897 - accuracy: 0.6955 - val_loss: 0.5802 - val_accuracy: 0.7247\n",
      "Epoch 3/16\n",
      "23/23 [==============================] - 0s 3ms/step - loss: 0.5593 - accuracy: 0.7139 - val_loss: 0.4368 - val_accuracy: 0.8371\n",
      "Epoch 4/16\n",
      "23/23 [==============================] - 0s 3ms/step - loss: 0.4806 - accuracy: 0.7841 - val_loss: 0.4431 - val_accuracy: 0.7978\n",
      "Epoch 5/16\n",
      "23/23 [==============================] - 0s 2ms/step - loss: 0.4853 - accuracy: 0.7830 - val_loss: 0.4083 - val_accuracy: 0.8146\n",
      "Epoch 6/16\n",
      "23/23 [==============================] - 0s 2ms/step - loss: 0.4574 - accuracy: 0.8109 - val_loss: 0.4280 - val_accuracy: 0.7978\n",
      "Epoch 7/16\n",
      "23/23 [==============================] - 0s 3ms/step - loss: 0.4381 - accuracy: 0.8237 - val_loss: 0.3912 - val_accuracy: 0.8315\n",
      "Epoch 8/16\n",
      "23/23 [==============================] - 0s 3ms/step - loss: 0.4439 - accuracy: 0.8025 - val_loss: 0.5323 - val_accuracy: 0.7472\n",
      "Epoch 9/16\n",
      "23/23 [==============================] - 0s 3ms/step - loss: 0.4600 - accuracy: 0.7890 - val_loss: 0.3824 - val_accuracy: 0.8483\n",
      "Epoch 10/16\n",
      "23/23 [==============================] - 0s 3ms/step - loss: 0.4018 - accuracy: 0.8359 - val_loss: 0.3853 - val_accuracy: 0.8539\n",
      "Epoch 11/16\n",
      "23/23 [==============================] - 0s 2ms/step - loss: 0.4524 - accuracy: 0.8088 - val_loss: 0.3971 - val_accuracy: 0.8371\n",
      "Epoch 12/16\n",
      "23/23 [==============================] - 0s 3ms/step - loss: 0.3985 - accuracy: 0.8371 - val_loss: 0.3782 - val_accuracy: 0.8427\n",
      "Epoch 13/16\n",
      "23/23 [==============================] - 0s 2ms/step - loss: 0.4222 - accuracy: 0.8170 - val_loss: 0.3835 - val_accuracy: 0.8371\n",
      "Epoch 14/16\n",
      "23/23 [==============================] - 0s 2ms/step - loss: 0.4541 - accuracy: 0.7985 - val_loss: 0.3836 - val_accuracy: 0.8652\n",
      "Epoch 15/16\n",
      "23/23 [==============================] - 0s 3ms/step - loss: 0.4476 - accuracy: 0.8100 - val_loss: 0.3666 - val_accuracy: 0.8427\n",
      "Epoch 16/16\n",
      "23/23 [==============================] - 0s 2ms/step - loss: 0.4143 - accuracy: 0.8249 - val_loss: 0.4042 - val_accuracy: 0.8034\n"
     ]
    },
    {
     "data": {
      "text/plain": [
       "<tensorflow.python.keras.callbacks.History at 0x159ae3b8340>"
      ]
     },
     "execution_count": 19,
     "metadata": {},
     "output_type": "execute_result"
    }
   ],
   "source": [
    "# Neuronales (RN3)\n",
    "\n",
    "cols_n = X_train.shape[1]\n",
    "\n",
    "inputs = Input(shape=(cols_n))\n",
    "x = layers.Dense(128, activation=\"relu\")(inputs)\n",
    "x = layers.Dense(128, activation=\"relu\")(x)\n",
    "predictions = layers.Dense(1, activation=\"sigmoid\")(x)\n",
    "model = Model(inputs, predictions)\n",
    "model.compile(loss='binary_crossentropy', optimizer=\"adam\", metrics=['accuracy'])\n",
    "model.summary()\n",
    "model.fit(X_train, y_train, epochs=16, validation_data=(X_test, y_test))"
   ]
  },
  {
   "cell_type": "code",
   "execution_count": 20,
   "metadata": {
    "colab": {
     "base_uri": "https://localhost:8080/"
    },
    "id": "y0ESOsxjKJkC",
    "outputId": "cf3500d7-f914-4d6b-c26b-703c410f5876"
   },
   "outputs": [
    {
     "name": "stdout",
     "output_type": "stream",
     "text": [
      "Model: \"model_3\"\n",
      "_________________________________________________________________\n",
      "Layer (type)                 Output Shape              Param #   \n",
      "=================================================================\n",
      "input_4 (InputLayer)         [(None, 16)]              0         \n",
      "_________________________________________________________________\n",
      "dense_10 (Dense)             (None, 9)                 153       \n",
      "_________________________________________________________________\n",
      "dense_11 (Dense)             (None, 9)                 90        \n",
      "_________________________________________________________________\n",
      "dense_12 (Dense)             (None, 5)                 50        \n",
      "_________________________________________________________________\n",
      "dense_13 (Dense)             (None, 1)                 6         \n",
      "=================================================================\n",
      "Total params: 299\n",
      "Trainable params: 299\n",
      "Non-trainable params: 0\n",
      "_________________________________________________________________\n",
      "Epoch 1/32\n",
      "23/23 [==============================] - 1s 8ms/step - loss: 0.7412 - accuracy: 0.5972 - val_loss: 0.6570 - val_accuracy: 0.6685\n",
      "Epoch 2/32\n",
      "23/23 [==============================] - 0s 2ms/step - loss: 0.6839 - accuracy: 0.5942 - val_loss: 0.6328 - val_accuracy: 0.6685\n",
      "Epoch 3/32\n",
      "23/23 [==============================] - 0s 2ms/step - loss: 0.6560 - accuracy: 0.5944 - val_loss: 0.6070 - val_accuracy: 0.6685\n",
      "Epoch 4/32\n",
      "23/23 [==============================] - 0s 2ms/step - loss: 0.6455 - accuracy: 0.5946 - val_loss: 0.5876 - val_accuracy: 0.6854\n",
      "Epoch 5/32\n",
      "23/23 [==============================] - 0s 2ms/step - loss: 0.6185 - accuracy: 0.6306 - val_loss: 0.5734 - val_accuracy: 0.7135\n",
      "Epoch 6/32\n",
      "23/23 [==============================] - 0s 2ms/step - loss: 0.5811 - accuracy: 0.7176 - val_loss: 0.5525 - val_accuracy: 0.7360\n",
      "Epoch 7/32\n",
      "23/23 [==============================] - 0s 2ms/step - loss: 0.5881 - accuracy: 0.6821 - val_loss: 0.5280 - val_accuracy: 0.7360\n",
      "Epoch 8/32\n",
      "23/23 [==============================] - 0s 2ms/step - loss: 0.5561 - accuracy: 0.7262 - val_loss: 0.5143 - val_accuracy: 0.7753\n",
      "Epoch 9/32\n",
      "23/23 [==============================] - 0s 2ms/step - loss: 0.5576 - accuracy: 0.6979 - val_loss: 0.4929 - val_accuracy: 0.7809\n",
      "Epoch 10/32\n",
      "23/23 [==============================] - 0s 2ms/step - loss: 0.5414 - accuracy: 0.7524 - val_loss: 0.4721 - val_accuracy: 0.7640\n",
      "Epoch 11/32\n",
      "23/23 [==============================] - 0s 2ms/step - loss: 0.5103 - accuracy: 0.7379 - val_loss: 0.4745 - val_accuracy: 0.8258\n",
      "Epoch 12/32\n",
      "23/23 [==============================] - 0s 2ms/step - loss: 0.5163 - accuracy: 0.7909 - val_loss: 0.4493 - val_accuracy: 0.8315\n",
      "Epoch 13/32\n",
      "23/23 [==============================] - 0s 2ms/step - loss: 0.4959 - accuracy: 0.8014 - val_loss: 0.4387 - val_accuracy: 0.8371\n",
      "Epoch 14/32\n",
      "23/23 [==============================] - 0s 3ms/step - loss: 0.4770 - accuracy: 0.8118 - val_loss: 0.4329 - val_accuracy: 0.8315\n",
      "Epoch 15/32\n",
      "23/23 [==============================] - 0s 3ms/step - loss: 0.4572 - accuracy: 0.8066 - val_loss: 0.4317 - val_accuracy: 0.8090\n",
      "Epoch 16/32\n",
      "23/23 [==============================] - 0s 3ms/step - loss: 0.4737 - accuracy: 0.8015 - val_loss: 0.4281 - val_accuracy: 0.8034\n",
      "Epoch 17/32\n",
      "23/23 [==============================] - 0s 3ms/step - loss: 0.4643 - accuracy: 0.8053 - val_loss: 0.4135 - val_accuracy: 0.8258\n",
      "Epoch 18/32\n",
      "23/23 [==============================] - 0s 2ms/step - loss: 0.4899 - accuracy: 0.7829 - val_loss: 0.4037 - val_accuracy: 0.8371\n",
      "Epoch 19/32\n",
      "23/23 [==============================] - 0s 2ms/step - loss: 0.4520 - accuracy: 0.8090 - val_loss: 0.4265 - val_accuracy: 0.8146\n",
      "Epoch 20/32\n",
      "23/23 [==============================] - 0s 3ms/step - loss: 0.4751 - accuracy: 0.7799 - val_loss: 0.3939 - val_accuracy: 0.8427\n",
      "Epoch 21/32\n",
      "23/23 [==============================] - 0s 3ms/step - loss: 0.4531 - accuracy: 0.7970 - val_loss: 0.3943 - val_accuracy: 0.8202\n",
      "Epoch 22/32\n",
      "23/23 [==============================] - 0s 2ms/step - loss: 0.4333 - accuracy: 0.8291 - val_loss: 0.4056 - val_accuracy: 0.8202\n",
      "Epoch 23/32\n",
      "23/23 [==============================] - 0s 2ms/step - loss: 0.4338 - accuracy: 0.8185 - val_loss: 0.3877 - val_accuracy: 0.8427\n",
      "Epoch 24/32\n",
      "23/23 [==============================] - 0s 2ms/step - loss: 0.4213 - accuracy: 0.8347 - val_loss: 0.3910 - val_accuracy: 0.8258\n",
      "Epoch 25/32\n",
      "23/23 [==============================] - 0s 3ms/step - loss: 0.4163 - accuracy: 0.8316 - val_loss: 0.3864 - val_accuracy: 0.8371\n",
      "Epoch 26/32\n",
      "23/23 [==============================] - 0s 2ms/step - loss: 0.4448 - accuracy: 0.8148 - val_loss: 0.4106 - val_accuracy: 0.8315\n",
      "Epoch 27/32\n",
      "23/23 [==============================] - 0s 2ms/step - loss: 0.4006 - accuracy: 0.8408 - val_loss: 0.3820 - val_accuracy: 0.8427\n",
      "Epoch 28/32\n",
      "23/23 [==============================] - 0s 2ms/step - loss: 0.4048 - accuracy: 0.8396 - val_loss: 0.3880 - val_accuracy: 0.8427\n",
      "Epoch 29/32\n",
      "23/23 [==============================] - 0s 2ms/step - loss: 0.4452 - accuracy: 0.8197 - val_loss: 0.3825 - val_accuracy: 0.8371\n",
      "Epoch 30/32\n",
      "23/23 [==============================] - 0s 2ms/step - loss: 0.4334 - accuracy: 0.8206 - val_loss: 0.3883 - val_accuracy: 0.8315\n",
      "Epoch 31/32\n",
      "23/23 [==============================] - 0s 2ms/step - loss: 0.4298 - accuracy: 0.8181 - val_loss: 0.3779 - val_accuracy: 0.8427\n",
      "Epoch 32/32\n",
      "23/23 [==============================] - 0s 2ms/step - loss: 0.4348 - accuracy: 0.8257 - val_loss: 0.3819 - val_accuracy: 0.8371\n"
     ]
    },
    {
     "data": {
      "text/plain": [
       "<tensorflow.python.keras.callbacks.History at 0x159b858d1f0>"
      ]
     },
     "execution_count": 20,
     "metadata": {},
     "output_type": "execute_result"
    }
   ],
   "source": [
    "# Neuronales (RN4)\n",
    "\n",
    "cols_n = X_train.shape[1]\n",
    "\n",
    "inputs = Input(shape=(cols_n))\n",
    "x = layers.Dense(9, activation=\"relu\")(inputs)\n",
    "x = layers.Dense(9, activation=\"relu\")(x)\n",
    "x = layers.Dense(5, activation=\"relu\")(x)\n",
    "predictions = layers.Dense(1, activation=\"sigmoid\")(x)\n",
    "model = Model(inputs, predictions)\n",
    "model.compile(loss='binary_crossentropy', optimizer=\"adam\", metrics=['accuracy'])\n",
    "model.summary()\n",
    "model.fit(X_train, y_train, epochs=32, validation_data=(X_test, y_test))"
   ]
  },
  {
   "cell_type": "code",
   "execution_count": 21,
   "metadata": {
    "colab": {
     "base_uri": "https://localhost:8080/"
    },
    "id": "uf7ACwfJKJkD",
    "outputId": "b97938b6-6b08-4c3b-8bab-0a8b6bafa642"
   },
   "outputs": [
    {
     "name": "stdout",
     "output_type": "stream",
     "text": [
      "Model: \"model_4\"\n",
      "_________________________________________________________________\n",
      "Layer (type)                 Output Shape              Param #   \n",
      "=================================================================\n",
      "input_5 (InputLayer)         [(None, 13)]              0         \n",
      "_________________________________________________________________\n",
      "dense_14 (Dense)             (None, 32)                448       \n",
      "_________________________________________________________________\n",
      "dense_15 (Dense)             (None, 1)                 33        \n",
      "=================================================================\n",
      "Total params: 481\n",
      "Trainable params: 481\n",
      "Non-trainable params: 0\n",
      "_________________________________________________________________\n",
      "Epoch 1/32\n",
      "23/23 [==============================] - 1s 7ms/step - loss: 1.0531 - accuracy: 0.5893 - val_loss: 0.7882 - val_accuracy: 0.2360\n",
      "Epoch 2/32\n",
      "23/23 [==============================] - 0s 2ms/step - loss: 0.7343 - accuracy: 0.4490 - val_loss: 0.6684 - val_accuracy: 0.6067\n",
      "Epoch 3/32\n",
      "23/23 [==============================] - 0s 2ms/step - loss: 0.6299 - accuracy: 0.6587 - val_loss: 0.6174 - val_accuracy: 0.6910\n",
      "Epoch 4/32\n",
      "23/23 [==============================] - 0s 2ms/step - loss: 0.5976 - accuracy: 0.6882 - val_loss: 0.5763 - val_accuracy: 0.7079\n",
      "Epoch 5/32\n",
      "23/23 [==============================] - 0s 2ms/step - loss: 0.5567 - accuracy: 0.7578 - val_loss: 0.5486 - val_accuracy: 0.7360\n",
      "Epoch 6/32\n",
      "23/23 [==============================] - 0s 2ms/step - loss: 0.5371 - accuracy: 0.8048 - val_loss: 0.5340 - val_accuracy: 0.7416\n",
      "Epoch 7/32\n",
      "23/23 [==============================] - 0s 2ms/step - loss: 0.5075 - accuracy: 0.7988 - val_loss: 0.5164 - val_accuracy: 0.7978\n",
      "Epoch 8/32\n",
      "23/23 [==============================] - 0s 2ms/step - loss: 0.5008 - accuracy: 0.8147 - val_loss: 0.5029 - val_accuracy: 0.8090\n",
      "Epoch 9/32\n",
      "23/23 [==============================] - 0s 2ms/step - loss: 0.4806 - accuracy: 0.8114 - val_loss: 0.5030 - val_accuracy: 0.7865\n",
      "Epoch 10/32\n",
      "23/23 [==============================] - 0s 2ms/step - loss: 0.4643 - accuracy: 0.8253 - val_loss: 0.4870 - val_accuracy: 0.8146\n",
      "Epoch 11/32\n",
      "23/23 [==============================] - 0s 2ms/step - loss: 0.4541 - accuracy: 0.8126 - val_loss: 0.4811 - val_accuracy: 0.8146\n",
      "Epoch 12/32\n",
      "23/23 [==============================] - 0s 2ms/step - loss: 0.4911 - accuracy: 0.7831 - val_loss: 0.4915 - val_accuracy: 0.7921\n",
      "Epoch 13/32\n",
      "23/23 [==============================] - 0s 2ms/step - loss: 0.4715 - accuracy: 0.8113 - val_loss: 0.4728 - val_accuracy: 0.8371\n",
      "Epoch 14/32\n",
      "23/23 [==============================] - 0s 2ms/step - loss: 0.4751 - accuracy: 0.7942 - val_loss: 0.4869 - val_accuracy: 0.8034\n",
      "Epoch 15/32\n",
      "23/23 [==============================] - 0s 2ms/step - loss: 0.4542 - accuracy: 0.8262 - val_loss: 0.4765 - val_accuracy: 0.8202\n",
      "Epoch 16/32\n",
      "23/23 [==============================] - 0s 2ms/step - loss: 0.4653 - accuracy: 0.8192 - val_loss: 0.4647 - val_accuracy: 0.8315\n",
      "Epoch 17/32\n",
      "23/23 [==============================] - 0s 2ms/step - loss: 0.4458 - accuracy: 0.8036 - val_loss: 0.4629 - val_accuracy: 0.8315\n",
      "Epoch 18/32\n",
      "23/23 [==============================] - 0s 2ms/step - loss: 0.4657 - accuracy: 0.7774 - val_loss: 0.4636 - val_accuracy: 0.8315\n",
      "Epoch 19/32\n",
      "23/23 [==============================] - 0s 2ms/step - loss: 0.4606 - accuracy: 0.7872 - val_loss: 0.4582 - val_accuracy: 0.8315\n",
      "Epoch 20/32\n",
      "23/23 [==============================] - 0s 2ms/step - loss: 0.4164 - accuracy: 0.8256 - val_loss: 0.4576 - val_accuracy: 0.8315\n",
      "Epoch 21/32\n",
      "23/23 [==============================] - 0s 2ms/step - loss: 0.4713 - accuracy: 0.7967 - val_loss: 0.4596 - val_accuracy: 0.8371\n",
      "Epoch 22/32\n",
      "23/23 [==============================] - 0s 2ms/step - loss: 0.4365 - accuracy: 0.8251 - val_loss: 0.4538 - val_accuracy: 0.8371\n",
      "Epoch 23/32\n",
      "23/23 [==============================] - 0s 2ms/step - loss: 0.4426 - accuracy: 0.8054 - val_loss: 0.4659 - val_accuracy: 0.8483\n",
      "Epoch 24/32\n",
      "23/23 [==============================] - 0s 2ms/step - loss: 0.4362 - accuracy: 0.8125 - val_loss: 0.4538 - val_accuracy: 0.8371\n",
      "Epoch 25/32\n",
      "23/23 [==============================] - 0s 2ms/step - loss: 0.4422 - accuracy: 0.8081 - val_loss: 0.4572 - val_accuracy: 0.8315\n",
      "Epoch 26/32\n",
      "23/23 [==============================] - 0s 2ms/step - loss: 0.4239 - accuracy: 0.8292 - val_loss: 0.4503 - val_accuracy: 0.8371\n",
      "Epoch 27/32\n",
      "23/23 [==============================] - 0s 3ms/step - loss: 0.4228 - accuracy: 0.8118 - val_loss: 0.4535 - val_accuracy: 0.8315\n",
      "Epoch 28/32\n",
      "23/23 [==============================] - 0s 2ms/step - loss: 0.4252 - accuracy: 0.8168 - val_loss: 0.4485 - val_accuracy: 0.8371\n",
      "Epoch 29/32\n",
      "23/23 [==============================] - 0s 2ms/step - loss: 0.4363 - accuracy: 0.8108 - val_loss: 0.4522 - val_accuracy: 0.8315\n",
      "Epoch 30/32\n",
      "23/23 [==============================] - 0s 2ms/step - loss: 0.4165 - accuracy: 0.8367 - val_loss: 0.4478 - val_accuracy: 0.8371\n",
      "Epoch 31/32\n",
      "23/23 [==============================] - 0s 2ms/step - loss: 0.4179 - accuracy: 0.8042 - val_loss: 0.4513 - val_accuracy: 0.8315\n",
      "Epoch 32/32\n",
      "23/23 [==============================] - 0s 2ms/step - loss: 0.4484 - accuracy: 0.8059 - val_loss: 0.4479 - val_accuracy: 0.8315\n"
     ]
    },
    {
     "data": {
      "text/plain": [
       "<tensorflow.python.keras.callbacks.History at 0x159b8a178b0>"
      ]
     },
     "execution_count": 21,
     "metadata": {},
     "output_type": "execute_result"
    }
   ],
   "source": [
    "X1 = titanicDF[['Age','SibSp','Parch', 'Fare','Sex_male','Pclass_2','Pclass_3','Embarked_Q','Embarked_S','Title_Miss','Title_Mr','Title_Mrs','IsAlone']]\n",
    "y1 = titanicDF['Survived']\n",
    "X1_train, X1_test, y1_train, y1_test = train_test_split(X1, y1, test_size=0.2)\n",
    "\n",
    "cols_n = X1_train.shape[1]\n",
    "inputs = Input(shape=(cols_n))\n",
    "x = layers.Dense(32, activation=\"relu\")(inputs)\n",
    "predictions = layers.Dense(1, activation=\"sigmoid\")(x)\n",
    "model = Model(inputs, predictions)\n",
    "model.compile(loss='binary_crossentropy', optimizer=\"adam\", metrics=['accuracy'])\n",
    "model.summary()\n",
    "model.fit(X1_train, y1_train, epochs=32, validation_data=(X1_test, y1_test))"
   ]
  },
  {
   "cell_type": "code",
   "execution_count": null,
   "metadata": {
    "id": "UqP9denPKJkD"
   },
   "outputs": [],
   "source": []
  }
 ],
 "metadata": {
  "colab": {
   "collapsed_sections": [],
   "name": "Trabajo_final_grupal v4.ipynb",
   "provenance": []
  },
  "kernelspec": {
   "display_name": "Python 3",
   "language": "python",
   "name": "python3"
  },
  "language_info": {
   "codemirror_mode": {
    "name": "ipython",
    "version": 3
   },
   "file_extension": ".py",
   "mimetype": "text/x-python",
   "name": "python",
   "nbconvert_exporter": "python",
   "pygments_lexer": "ipython3",
   "version": "3.8.5"
  }
 },
 "nbformat": 4,
 "nbformat_minor": 1
}
